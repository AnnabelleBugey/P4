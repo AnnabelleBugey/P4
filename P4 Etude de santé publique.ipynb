{
 "cells": [
  {
   "cell_type": "markdown",
   "id": "81947836",
   "metadata": {},
   "source": [
    "**ETUDE DE SANTE PUBLIQUE**"
   ]
  },
  {
   "cell_type": "markdown",
   "id": "cae5ec30",
   "metadata": {},
   "source": [
    "**1. Proportion de personnes en état de sous-nutrition dans le monde**"
   ]
  },
  {
   "cell_type": "code",
   "execution_count": 1,
   "id": "18c30a70",
   "metadata": {},
   "outputs": [],
   "source": [
    "import numpy as np\n",
    "import pandas as pd\n",
    "import matplotlib.pyplot as plt"
   ]
  },
  {
   "cell_type": "code",
   "execution_count": 2,
   "id": "73de22d5",
   "metadata": {
    "scrolled": true
   },
   "outputs": [
    {
     "data": {
      "text/html": [
       "<div>\n",
       "<style scoped>\n",
       "    .dataframe tbody tr th:only-of-type {\n",
       "        vertical-align: middle;\n",
       "    }\n",
       "\n",
       "    .dataframe tbody tr th {\n",
       "        vertical-align: top;\n",
       "    }\n",
       "\n",
       "    .dataframe thead th {\n",
       "        text-align: right;\n",
       "    }\n",
       "</style>\n",
       "<table border=\"1\" class=\"dataframe\">\n",
       "  <thead>\n",
       "    <tr style=\"text-align: right;\">\n",
       "      <th></th>\n",
       "      <th>Zone</th>\n",
       "      <th>Année</th>\n",
       "      <th>Valeur</th>\n",
       "    </tr>\n",
       "  </thead>\n",
       "  <tbody>\n",
       "    <tr>\n",
       "      <th>0</th>\n",
       "      <td>Afghanistan</td>\n",
       "      <td>2013</td>\n",
       "      <td>32269.589</td>\n",
       "    </tr>\n",
       "    <tr>\n",
       "      <th>1</th>\n",
       "      <td>Afghanistan</td>\n",
       "      <td>2014</td>\n",
       "      <td>33370.794</td>\n",
       "    </tr>\n",
       "    <tr>\n",
       "      <th>2</th>\n",
       "      <td>Afghanistan</td>\n",
       "      <td>2015</td>\n",
       "      <td>34413.603</td>\n",
       "    </tr>\n",
       "    <tr>\n",
       "      <th>3</th>\n",
       "      <td>Afghanistan</td>\n",
       "      <td>2016</td>\n",
       "      <td>35383.032</td>\n",
       "    </tr>\n",
       "    <tr>\n",
       "      <th>4</th>\n",
       "      <td>Afghanistan</td>\n",
       "      <td>2017</td>\n",
       "      <td>36296.113</td>\n",
       "    </tr>\n",
       "  </tbody>\n",
       "</table>\n",
       "</div>"
      ],
      "text/plain": [
       "          Zone  Année     Valeur\n",
       "0  Afghanistan   2013  32269.589\n",
       "1  Afghanistan   2014  33370.794\n",
       "2  Afghanistan   2015  34413.603\n",
       "3  Afghanistan   2016  35383.032\n",
       "4  Afghanistan   2017  36296.113"
      ]
     },
     "execution_count": 2,
     "metadata": {},
     "output_type": "execute_result"
    }
   ],
   "source": [
    "population = pd.read_csv('population.csv')\n",
    "population.head()"
   ]
  },
  {
   "cell_type": "markdown",
   "id": "986a161f",
   "metadata": {},
   "source": [
    "+ Je fais un filtre sur la table population pour l'année 2017\n",
    "+ Je calcule la population mondiale pour 2017"
   ]
  },
  {
   "cell_type": "code",
   "execution_count": 3,
   "id": "b8a4cccc",
   "metadata": {},
   "outputs": [
    {
     "name": "stdout",
     "output_type": "stream",
     "text": [
      "La population mondiale en 2017 est de 7548134000 habitants\n"
     ]
    }
   ],
   "source": [
    "population_2017 = population.loc[population['Année'] == 2017]\n",
    "total_population_2017 = round(population_2017['Valeur'].sum()) * 1000\n",
    "print(\"La population mondiale en 2017 est de\", total_population_2017,\"habitants\")"
   ]
  },
  {
   "cell_type": "code",
   "execution_count": 4,
   "id": "9cf0e306",
   "metadata": {},
   "outputs": [
    {
     "name": "stdout",
     "output_type": "stream",
     "text": [
      "             Zone      Année Valeur\n",
      "0     Afghanistan  2012-2014    8.6\n",
      "1     Afghanistan  2013-2015    8.8\n",
      "2     Afghanistan  2014-2016    8.9\n",
      "3     Afghanistan  2015-2017    9.7\n",
      "4     Afghanistan  2016-2018   10.5\n",
      "...           ...        ...    ...\n",
      "1213     Zimbabwe  2013-2015    NaN\n",
      "1214     Zimbabwe  2014-2016    NaN\n",
      "1215     Zimbabwe  2015-2017    NaN\n",
      "1216     Zimbabwe  2016-2018    NaN\n",
      "1217     Zimbabwe  2017-2019    NaN\n",
      "\n",
      "[1218 rows x 3 columns]\n"
     ]
    }
   ],
   "source": [
    "sous_nutrition = pd.read_csv('sous_nutrition.csv')\n",
    "print(sous_nutrition)"
   ]
  },
  {
   "cell_type": "markdown",
   "id": "eb50bcc0",
   "metadata": {},
   "source": [
    "Je remplace les NaN par des 0"
   ]
  },
  {
   "cell_type": "code",
   "execution_count": 5,
   "id": "064beee5",
   "metadata": {},
   "outputs": [
    {
     "name": "stdout",
     "output_type": "stream",
     "text": [
      "             Zone      Année Valeur\n",
      "0     Afghanistan  2012-2014    8.6\n",
      "1     Afghanistan  2013-2015    8.8\n",
      "2     Afghanistan  2014-2016    8.9\n",
      "3     Afghanistan  2015-2017    9.7\n",
      "4     Afghanistan  2016-2018   10.5\n",
      "...           ...        ...    ...\n",
      "1213     Zimbabwe  2013-2015      0\n",
      "1214     Zimbabwe  2014-2016      0\n",
      "1215     Zimbabwe  2015-2017      0\n",
      "1216     Zimbabwe  2016-2018      0\n",
      "1217     Zimbabwe  2017-2019      0\n",
      "\n",
      "[1218 rows x 3 columns]\n"
     ]
    }
   ],
   "source": [
    "df = pd.DataFrame(sous_nutrition)\n",
    "NaN_replaced_sous_nutrition = df.replace(np.NaN,0)\n",
    "print(NaN_replaced_sous_nutrition)"
   ]
  },
  {
   "cell_type": "markdown",
   "id": "a35059db",
   "metadata": {},
   "source": [
    "Ensuite je convertis ma colonne valeur au format numérique"
   ]
  },
  {
   "cell_type": "code",
   "execution_count": 6,
   "id": "29cf3dfb",
   "metadata": {},
   "outputs": [
    {
     "name": "stdout",
     "output_type": "stream",
     "text": [
      "<class 'pandas.core.frame.DataFrame'>\n",
      "RangeIndex: 1218 entries, 0 to 1217\n",
      "Data columns (total 3 columns):\n",
      " #   Column  Non-Null Count  Dtype  \n",
      "---  ------  --------------  -----  \n",
      " 0   Zone    1218 non-null   object \n",
      " 1   Année   1218 non-null   object \n",
      " 2   Valeur  1098 non-null   float64\n",
      "dtypes: float64(1), object(2)\n",
      "memory usage: 28.7+ KB\n",
      "None\n"
     ]
    }
   ],
   "source": [
    "NaN_replaced_sous_nutrition['Valeur'] = pd.to_numeric(NaN_replaced_sous_nutrition['Valeur'],errors = 'coerce')\n",
    "print(NaN_replaced_sous_nutrition.info())"
   ]
  },
  {
   "cell_type": "markdown",
   "id": "aeb4758c",
   "metadata": {},
   "source": [
    "+ Je fais un filtre des données de sous-nutrition pour l'année 2017\n",
    "+ Je calcule le total de personnes sous-nutries pour l'année 2017"
   ]
  },
  {
   "cell_type": "code",
   "execution_count": 7,
   "id": "a90ad699",
   "metadata": {},
   "outputs": [
    {
     "name": "stdout",
     "output_type": "stream",
     "text": [
      "Le total de personnes en sous nutrition en 2017 est de 536000000\n"
     ]
    }
   ],
   "source": [
    "sous_nutrition_2017 = NaN_replaced_sous_nutrition.loc[NaN_replaced_sous_nutrition['Année'] == '2016-2018']\n",
    "total_sous_nutrition_2017 = round(sous_nutrition_2017['Valeur'].sum())*1000000\n",
    "print(\"Le total de personnes en sous nutrition en 2017 est de\", total_sous_nutrition_2017)"
   ]
  },
  {
   "cell_type": "markdown",
   "id": "44c6a811",
   "metadata": {},
   "source": [
    "Expression du nombre de personnes en état de sous-nutrition en pourcentage de la population mondiale"
   ]
  },
  {
   "cell_type": "code",
   "execution_count": 8,
   "id": "e8571aba",
   "metadata": {},
   "outputs": [
    {
     "name": "stdout",
     "output_type": "stream",
     "text": [
      "La proportion de personnes en sous nutrition dans le monde en 2017 est de 7.1 %\n"
     ]
    }
   ],
   "source": [
    "pourcentage_sous_nutrition = round(total_sous_nutrition_2017 / total_population_2017 * 100,2)\n",
    "print(\"La proportion de personnes en sous nutrition dans le monde en 2017 est de\", pourcentage_sous_nutrition,\"%\")"
   ]
  },
  {
   "cell_type": "markdown",
   "id": "86778c37",
   "metadata": {},
   "source": [
    "**2. Nombre théorique de personnes qui pourraient être nourries**"
   ]
  },
  {
   "cell_type": "code",
   "execution_count": 9,
   "id": "961b5628",
   "metadata": {
    "scrolled": true
   },
   "outputs": [
    {
     "data": {
      "text/html": [
       "<div>\n",
       "<style scoped>\n",
       "    .dataframe tbody tr th:only-of-type {\n",
       "        vertical-align: middle;\n",
       "    }\n",
       "\n",
       "    .dataframe tbody tr th {\n",
       "        vertical-align: top;\n",
       "    }\n",
       "\n",
       "    .dataframe thead th {\n",
       "        text-align: right;\n",
       "    }\n",
       "</style>\n",
       "<table border=\"1\" class=\"dataframe\">\n",
       "  <thead>\n",
       "    <tr style=\"text-align: right;\">\n",
       "      <th></th>\n",
       "      <th>Zone</th>\n",
       "      <th>Produit</th>\n",
       "      <th>Origine</th>\n",
       "      <th>Aliments pour animaux</th>\n",
       "      <th>Autres Utilisations</th>\n",
       "      <th>Disponibilité alimentaire (Kcal/personne/jour)</th>\n",
       "      <th>Disponibilité alimentaire en quantité (kg/personne/an)</th>\n",
       "      <th>Disponibilité de matière grasse en quantité (g/personne/jour)</th>\n",
       "      <th>Disponibilité de protéines en quantité (g/personne/jour)</th>\n",
       "      <th>Disponibilité intérieure</th>\n",
       "      <th>Exportations - Quantité</th>\n",
       "      <th>Importations - Quantité</th>\n",
       "      <th>Nourriture</th>\n",
       "      <th>Pertes</th>\n",
       "      <th>Production</th>\n",
       "      <th>Semences</th>\n",
       "      <th>Traitement</th>\n",
       "      <th>Variation de stock</th>\n",
       "    </tr>\n",
       "  </thead>\n",
       "  <tbody>\n",
       "    <tr>\n",
       "      <th>0</th>\n",
       "      <td>Afghanistan</td>\n",
       "      <td>Abats Comestible</td>\n",
       "      <td>animale</td>\n",
       "      <td>NaN</td>\n",
       "      <td>NaN</td>\n",
       "      <td>5.0</td>\n",
       "      <td>1.72</td>\n",
       "      <td>0.20</td>\n",
       "      <td>0.77</td>\n",
       "      <td>53.0</td>\n",
       "      <td>NaN</td>\n",
       "      <td>NaN</td>\n",
       "      <td>53.0</td>\n",
       "      <td>NaN</td>\n",
       "      <td>53.0</td>\n",
       "      <td>NaN</td>\n",
       "      <td>NaN</td>\n",
       "      <td>NaN</td>\n",
       "    </tr>\n",
       "    <tr>\n",
       "      <th>1</th>\n",
       "      <td>Afghanistan</td>\n",
       "      <td>Agrumes, Autres</td>\n",
       "      <td>vegetale</td>\n",
       "      <td>NaN</td>\n",
       "      <td>NaN</td>\n",
       "      <td>1.0</td>\n",
       "      <td>1.29</td>\n",
       "      <td>0.01</td>\n",
       "      <td>0.02</td>\n",
       "      <td>41.0</td>\n",
       "      <td>2.0</td>\n",
       "      <td>40.0</td>\n",
       "      <td>39.0</td>\n",
       "      <td>2.0</td>\n",
       "      <td>3.0</td>\n",
       "      <td>NaN</td>\n",
       "      <td>NaN</td>\n",
       "      <td>NaN</td>\n",
       "    </tr>\n",
       "    <tr>\n",
       "      <th>2</th>\n",
       "      <td>Afghanistan</td>\n",
       "      <td>Aliments pour enfants</td>\n",
       "      <td>vegetale</td>\n",
       "      <td>NaN</td>\n",
       "      <td>NaN</td>\n",
       "      <td>1.0</td>\n",
       "      <td>0.06</td>\n",
       "      <td>0.01</td>\n",
       "      <td>0.03</td>\n",
       "      <td>2.0</td>\n",
       "      <td>NaN</td>\n",
       "      <td>2.0</td>\n",
       "      <td>2.0</td>\n",
       "      <td>NaN</td>\n",
       "      <td>NaN</td>\n",
       "      <td>NaN</td>\n",
       "      <td>NaN</td>\n",
       "      <td>NaN</td>\n",
       "    </tr>\n",
       "    <tr>\n",
       "      <th>3</th>\n",
       "      <td>Afghanistan</td>\n",
       "      <td>Ananas</td>\n",
       "      <td>vegetale</td>\n",
       "      <td>NaN</td>\n",
       "      <td>NaN</td>\n",
       "      <td>0.0</td>\n",
       "      <td>0.00</td>\n",
       "      <td>NaN</td>\n",
       "      <td>NaN</td>\n",
       "      <td>0.0</td>\n",
       "      <td>NaN</td>\n",
       "      <td>0.0</td>\n",
       "      <td>0.0</td>\n",
       "      <td>NaN</td>\n",
       "      <td>NaN</td>\n",
       "      <td>NaN</td>\n",
       "      <td>NaN</td>\n",
       "      <td>NaN</td>\n",
       "    </tr>\n",
       "    <tr>\n",
       "      <th>4</th>\n",
       "      <td>Afghanistan</td>\n",
       "      <td>Bananes</td>\n",
       "      <td>vegetale</td>\n",
       "      <td>NaN</td>\n",
       "      <td>NaN</td>\n",
       "      <td>4.0</td>\n",
       "      <td>2.70</td>\n",
       "      <td>0.02</td>\n",
       "      <td>0.05</td>\n",
       "      <td>82.0</td>\n",
       "      <td>NaN</td>\n",
       "      <td>82.0</td>\n",
       "      <td>82.0</td>\n",
       "      <td>NaN</td>\n",
       "      <td>NaN</td>\n",
       "      <td>NaN</td>\n",
       "      <td>NaN</td>\n",
       "      <td>NaN</td>\n",
       "    </tr>\n",
       "  </tbody>\n",
       "</table>\n",
       "</div>"
      ],
      "text/plain": [
       "          Zone                Produit   Origine  Aliments pour animaux  \\\n",
       "0  Afghanistan       Abats Comestible   animale                    NaN   \n",
       "1  Afghanistan        Agrumes, Autres  vegetale                    NaN   \n",
       "2  Afghanistan  Aliments pour enfants  vegetale                    NaN   \n",
       "3  Afghanistan                 Ananas  vegetale                    NaN   \n",
       "4  Afghanistan                Bananes  vegetale                    NaN   \n",
       "\n",
       "   Autres Utilisations  Disponibilité alimentaire (Kcal/personne/jour)  \\\n",
       "0                  NaN                                             5.0   \n",
       "1                  NaN                                             1.0   \n",
       "2                  NaN                                             1.0   \n",
       "3                  NaN                                             0.0   \n",
       "4                  NaN                                             4.0   \n",
       "\n",
       "   Disponibilité alimentaire en quantité (kg/personne/an)  \\\n",
       "0                                               1.72        \n",
       "1                                               1.29        \n",
       "2                                               0.06        \n",
       "3                                               0.00        \n",
       "4                                               2.70        \n",
       "\n",
       "   Disponibilité de matière grasse en quantité (g/personne/jour)  \\\n",
       "0                                               0.20               \n",
       "1                                               0.01               \n",
       "2                                               0.01               \n",
       "3                                                NaN               \n",
       "4                                               0.02               \n",
       "\n",
       "   Disponibilité de protéines en quantité (g/personne/jour)  \\\n",
       "0                                               0.77          \n",
       "1                                               0.02          \n",
       "2                                               0.03          \n",
       "3                                                NaN          \n",
       "4                                               0.05          \n",
       "\n",
       "   Disponibilité intérieure  Exportations - Quantité  Importations - Quantité  \\\n",
       "0                      53.0                      NaN                      NaN   \n",
       "1                      41.0                      2.0                     40.0   \n",
       "2                       2.0                      NaN                      2.0   \n",
       "3                       0.0                      NaN                      0.0   \n",
       "4                      82.0                      NaN                     82.0   \n",
       "\n",
       "   Nourriture  Pertes  Production  Semences  Traitement  Variation de stock  \n",
       "0        53.0     NaN        53.0       NaN         NaN                 NaN  \n",
       "1        39.0     2.0         3.0       NaN         NaN                 NaN  \n",
       "2         2.0     NaN         NaN       NaN         NaN                 NaN  \n",
       "3         0.0     NaN         NaN       NaN         NaN                 NaN  \n",
       "4        82.0     NaN         NaN       NaN         NaN                 NaN  "
      ]
     },
     "execution_count": 9,
     "metadata": {},
     "output_type": "execute_result"
    }
   ],
   "source": [
    "dispo_alimentaire = pd.read_csv('dispo_alimentaire.csv')\n",
    "dispo_alimentaire.head()"
   ]
  },
  {
   "cell_type": "markdown",
   "id": "8868e52d",
   "metadata": {},
   "source": [
    "Calcul de la disponibilité alimentaire par pays (en kcal/personne/jour)"
   ]
  },
  {
   "cell_type": "code",
   "execution_count": 10,
   "id": "897ead83",
   "metadata": {},
   "outputs": [
    {
     "data": {
      "text/plain": [
       "Zone\n",
       "Afghanistan       2087.0\n",
       "Afrique du Sud    3020.0\n",
       "Albanie           3188.0\n",
       "Algérie           3293.0\n",
       "Allemagne         3503.0\n",
       "Name: Disponibilité alimentaire (Kcal/personne/jour), dtype: float64"
      ]
     },
     "execution_count": 10,
     "metadata": {},
     "output_type": "execute_result"
    }
   ],
   "source": [
    "dispo_alimentaire_par_pays = dispo_alimentaire.groupby(['Zone'])['Disponibilité alimentaire (Kcal/personne/jour)'].sum()  \n",
    "dispo_alimentaire_par_pays.head()"
   ]
  },
  {
   "cell_type": "markdown",
   "id": "a2f77a11",
   "metadata": {},
   "source": [
    "Jointure de la série avec le dataframe popualtion 2017"
   ]
  },
  {
   "cell_type": "code",
   "execution_count": 11,
   "id": "34be3181",
   "metadata": {},
   "outputs": [
    {
     "data": {
      "text/html": [
       "<div>\n",
       "<style scoped>\n",
       "    .dataframe tbody tr th:only-of-type {\n",
       "        vertical-align: middle;\n",
       "    }\n",
       "\n",
       "    .dataframe tbody tr th {\n",
       "        vertical-align: top;\n",
       "    }\n",
       "\n",
       "    .dataframe thead th {\n",
       "        text-align: right;\n",
       "    }\n",
       "</style>\n",
       "<table border=\"1\" class=\"dataframe\">\n",
       "  <thead>\n",
       "    <tr style=\"text-align: right;\">\n",
       "      <th></th>\n",
       "      <th>Zone</th>\n",
       "      <th>Année</th>\n",
       "      <th>Valeur</th>\n",
       "      <th>Disponibilité alimentaire (Kcal/personne/jour)</th>\n",
       "    </tr>\n",
       "  </thead>\n",
       "  <tbody>\n",
       "    <tr>\n",
       "      <th>0</th>\n",
       "      <td>Afghanistan</td>\n",
       "      <td>2017</td>\n",
       "      <td>36296.113</td>\n",
       "      <td>2087.0</td>\n",
       "    </tr>\n",
       "    <tr>\n",
       "      <th>1</th>\n",
       "      <td>Afrique du Sud</td>\n",
       "      <td>2017</td>\n",
       "      <td>57009.756</td>\n",
       "      <td>3020.0</td>\n",
       "    </tr>\n",
       "    <tr>\n",
       "      <th>2</th>\n",
       "      <td>Albanie</td>\n",
       "      <td>2017</td>\n",
       "      <td>2884.169</td>\n",
       "      <td>3188.0</td>\n",
       "    </tr>\n",
       "    <tr>\n",
       "      <th>3</th>\n",
       "      <td>Algérie</td>\n",
       "      <td>2017</td>\n",
       "      <td>41389.189</td>\n",
       "      <td>3293.0</td>\n",
       "    </tr>\n",
       "    <tr>\n",
       "      <th>4</th>\n",
       "      <td>Allemagne</td>\n",
       "      <td>2017</td>\n",
       "      <td>82658.409</td>\n",
       "      <td>3503.0</td>\n",
       "    </tr>\n",
       "  </tbody>\n",
       "</table>\n",
       "</div>"
      ],
      "text/plain": [
       "             Zone  Année     Valeur  \\\n",
       "0     Afghanistan   2017  36296.113   \n",
       "1  Afrique du Sud   2017  57009.756   \n",
       "2         Albanie   2017   2884.169   \n",
       "3         Algérie   2017  41389.189   \n",
       "4       Allemagne   2017  82658.409   \n",
       "\n",
       "   Disponibilité alimentaire (Kcal/personne/jour)  \n",
       "0                                          2087.0  \n",
       "1                                          3020.0  \n",
       "2                                          3188.0  \n",
       "3                                          3293.0  \n",
       "4                                          3503.0  "
      ]
     },
     "execution_count": 11,
     "metadata": {},
     "output_type": "execute_result"
    }
   ],
   "source": [
    "df_intermediaire = pd.merge(population_2017, dispo_alimentaire_par_pays, on = 'Zone')\n",
    "df_intermediaire.head()"
   ]
  },
  {
   "cell_type": "markdown",
   "id": "99886742",
   "metadata": {},
   "source": [
    "Calcul de la disponibilité alimentaire totale par pays "
   ]
  },
  {
   "cell_type": "code",
   "execution_count": 12,
   "id": "c6ff6df8",
   "metadata": {
    "scrolled": true
   },
   "outputs": [
    {
     "data": {
      "text/html": [
       "<div>\n",
       "<style scoped>\n",
       "    .dataframe tbody tr th:only-of-type {\n",
       "        vertical-align: middle;\n",
       "    }\n",
       "\n",
       "    .dataframe tbody tr th {\n",
       "        vertical-align: top;\n",
       "    }\n",
       "\n",
       "    .dataframe thead th {\n",
       "        text-align: right;\n",
       "    }\n",
       "</style>\n",
       "<table border=\"1\" class=\"dataframe\">\n",
       "  <thead>\n",
       "    <tr style=\"text-align: right;\">\n",
       "      <th></th>\n",
       "      <th>Zone</th>\n",
       "      <th>Année</th>\n",
       "      <th>Valeur</th>\n",
       "      <th>Disponibilité alimentaire (Kcal/personne/jour)</th>\n",
       "      <th>disponibilite_alimentaire_total_pays</th>\n",
       "    </tr>\n",
       "  </thead>\n",
       "  <tbody>\n",
       "    <tr>\n",
       "      <th>0</th>\n",
       "      <td>Afghanistan</td>\n",
       "      <td>2017</td>\n",
       "      <td>36296.113</td>\n",
       "      <td>2087.0</td>\n",
       "      <td>75749988.0</td>\n",
       "    </tr>\n",
       "    <tr>\n",
       "      <th>1</th>\n",
       "      <td>Afrique du Sud</td>\n",
       "      <td>2017</td>\n",
       "      <td>57009.756</td>\n",
       "      <td>3020.0</td>\n",
       "      <td>172169463.0</td>\n",
       "    </tr>\n",
       "    <tr>\n",
       "      <th>2</th>\n",
       "      <td>Albanie</td>\n",
       "      <td>2017</td>\n",
       "      <td>2884.169</td>\n",
       "      <td>3188.0</td>\n",
       "      <td>9194731.0</td>\n",
       "    </tr>\n",
       "    <tr>\n",
       "      <th>3</th>\n",
       "      <td>Algérie</td>\n",
       "      <td>2017</td>\n",
       "      <td>41389.189</td>\n",
       "      <td>3293.0</td>\n",
       "      <td>136294599.0</td>\n",
       "    </tr>\n",
       "    <tr>\n",
       "      <th>4</th>\n",
       "      <td>Allemagne</td>\n",
       "      <td>2017</td>\n",
       "      <td>82658.409</td>\n",
       "      <td>3503.0</td>\n",
       "      <td>289552407.0</td>\n",
       "    </tr>\n",
       "  </tbody>\n",
       "</table>\n",
       "</div>"
      ],
      "text/plain": [
       "             Zone  Année     Valeur  \\\n",
       "0     Afghanistan   2017  36296.113   \n",
       "1  Afrique du Sud   2017  57009.756   \n",
       "2         Albanie   2017   2884.169   \n",
       "3         Algérie   2017  41389.189   \n",
       "4       Allemagne   2017  82658.409   \n",
       "\n",
       "   Disponibilité alimentaire (Kcal/personne/jour)  \\\n",
       "0                                          2087.0   \n",
       "1                                          3020.0   \n",
       "2                                          3188.0   \n",
       "3                                          3293.0   \n",
       "4                                          3503.0   \n",
       "\n",
       "   disponibilite_alimentaire_total_pays  \n",
       "0                            75749988.0  \n",
       "1                           172169463.0  \n",
       "2                             9194731.0  \n",
       "3                           136294599.0  \n",
       "4                           289552407.0  "
      ]
     },
     "execution_count": 12,
     "metadata": {},
     "output_type": "execute_result"
    }
   ],
   "source": [
    "df_intermediaire['disponibilite_alimentaire_total_pays'] = round(df_intermediaire['Disponibilité alimentaire (Kcal/personne/jour)']*df_intermediaire['Valeur'])\n",
    "df_intermediaire.head()"
   ]
  },
  {
   "cell_type": "code",
   "execution_count": 13,
   "id": "bb464c24",
   "metadata": {},
   "outputs": [
    {
     "name": "stdout",
     "output_type": "stream",
     "text": [
      "La disponibilité alimentaire mondiale est de 20918984629 Kcal/jour\n"
     ]
    }
   ],
   "source": [
    "dispo_alimentaire_mondiale = round(df_intermediaire['disponibilite_alimentaire_total_pays'].sum())\n",
    "print(\"La disponibilité alimentaire mondiale est de\", dispo_alimentaire_mondiale,\"Kcal/jour\" )"
   ]
  },
  {
   "cell_type": "markdown",
   "id": "27c46093",
   "metadata": {},
   "source": [
    "En considérant que le besoin alimentaire moyen d'une personne est de 2500 kcal/jour"
   ]
  },
  {
   "cell_type": "code",
   "execution_count": 14,
   "id": "f8b6a49f",
   "metadata": {},
   "outputs": [
    {
     "name": "stdout",
     "output_type": "stream",
     "text": [
      "Le nombre théorique de personnes qui pourraient être nourries est de 8367593852 personnes.\n"
     ]
    }
   ],
   "source": [
    "nombre_theorique_de_pers_qui_pourraient_etre_nourries = round(dispo_alimentaire_mondiale / 2500 *1000)\n",
    "print(\"Le nombre théorique de personnes qui pourraient être nourries est de\", nombre_theorique_de_pers_qui_pourraient_etre_nourries, \"personnes.\")"
   ]
  },
  {
   "cell_type": "code",
   "execution_count": 15,
   "id": "7ee999dd",
   "metadata": {},
   "outputs": [
    {
     "name": "stdout",
     "output_type": "stream",
     "text": [
      "Cela représente 111 % de la population mondiale.\n"
     ]
    }
   ],
   "source": [
    "pourcentage = round(nombre_theorique_de_pers_qui_pourraient_etre_nourries*100 / (population_2017['Valeur'].sum()*1000))\n",
    "print(\"Cela représente\", pourcentage, \"% de la population mondiale.\" )"
   ]
  },
  {
   "cell_type": "markdown",
   "id": "303f26b3",
   "metadata": {},
   "source": [
    "**3. Nombre théorique de personnes qui pourraient être nourries à partir des produits d'origine végétale**"
   ]
  },
  {
   "cell_type": "code",
   "execution_count": 16,
   "id": "111bce30",
   "metadata": {},
   "outputs": [
    {
     "data": {
      "text/html": [
       "<div>\n",
       "<style scoped>\n",
       "    .dataframe tbody tr th:only-of-type {\n",
       "        vertical-align: middle;\n",
       "    }\n",
       "\n",
       "    .dataframe tbody tr th {\n",
       "        vertical-align: top;\n",
       "    }\n",
       "\n",
       "    .dataframe thead th {\n",
       "        text-align: right;\n",
       "    }\n",
       "</style>\n",
       "<table border=\"1\" class=\"dataframe\">\n",
       "  <thead>\n",
       "    <tr style=\"text-align: right;\">\n",
       "      <th></th>\n",
       "      <th>Zone</th>\n",
       "      <th>Produit</th>\n",
       "      <th>Origine</th>\n",
       "      <th>Aliments pour animaux</th>\n",
       "      <th>Autres Utilisations</th>\n",
       "      <th>Disponibilité alimentaire (Kcal/personne/jour)</th>\n",
       "      <th>Disponibilité alimentaire en quantité (kg/personne/an)</th>\n",
       "      <th>Disponibilité de matière grasse en quantité (g/personne/jour)</th>\n",
       "      <th>Disponibilité de protéines en quantité (g/personne/jour)</th>\n",
       "      <th>Disponibilité intérieure</th>\n",
       "      <th>Exportations - Quantité</th>\n",
       "      <th>Importations - Quantité</th>\n",
       "      <th>Nourriture</th>\n",
       "      <th>Pertes</th>\n",
       "      <th>Production</th>\n",
       "      <th>Semences</th>\n",
       "      <th>Traitement</th>\n",
       "      <th>Variation de stock</th>\n",
       "    </tr>\n",
       "  </thead>\n",
       "  <tbody>\n",
       "    <tr>\n",
       "      <th>1</th>\n",
       "      <td>Afghanistan</td>\n",
       "      <td>Agrumes, Autres</td>\n",
       "      <td>vegetale</td>\n",
       "      <td>NaN</td>\n",
       "      <td>NaN</td>\n",
       "      <td>1.0</td>\n",
       "      <td>1.29</td>\n",
       "      <td>0.01</td>\n",
       "      <td>0.02</td>\n",
       "      <td>41.0</td>\n",
       "      <td>2.0</td>\n",
       "      <td>40.0</td>\n",
       "      <td>39.0</td>\n",
       "      <td>2.0</td>\n",
       "      <td>3.0</td>\n",
       "      <td>NaN</td>\n",
       "      <td>NaN</td>\n",
       "      <td>NaN</td>\n",
       "    </tr>\n",
       "    <tr>\n",
       "      <th>2</th>\n",
       "      <td>Afghanistan</td>\n",
       "      <td>Aliments pour enfants</td>\n",
       "      <td>vegetale</td>\n",
       "      <td>NaN</td>\n",
       "      <td>NaN</td>\n",
       "      <td>1.0</td>\n",
       "      <td>0.06</td>\n",
       "      <td>0.01</td>\n",
       "      <td>0.03</td>\n",
       "      <td>2.0</td>\n",
       "      <td>NaN</td>\n",
       "      <td>2.0</td>\n",
       "      <td>2.0</td>\n",
       "      <td>NaN</td>\n",
       "      <td>NaN</td>\n",
       "      <td>NaN</td>\n",
       "      <td>NaN</td>\n",
       "      <td>NaN</td>\n",
       "    </tr>\n",
       "    <tr>\n",
       "      <th>3</th>\n",
       "      <td>Afghanistan</td>\n",
       "      <td>Ananas</td>\n",
       "      <td>vegetale</td>\n",
       "      <td>NaN</td>\n",
       "      <td>NaN</td>\n",
       "      <td>0.0</td>\n",
       "      <td>0.00</td>\n",
       "      <td>NaN</td>\n",
       "      <td>NaN</td>\n",
       "      <td>0.0</td>\n",
       "      <td>NaN</td>\n",
       "      <td>0.0</td>\n",
       "      <td>0.0</td>\n",
       "      <td>NaN</td>\n",
       "      <td>NaN</td>\n",
       "      <td>NaN</td>\n",
       "      <td>NaN</td>\n",
       "      <td>NaN</td>\n",
       "    </tr>\n",
       "    <tr>\n",
       "      <th>4</th>\n",
       "      <td>Afghanistan</td>\n",
       "      <td>Bananes</td>\n",
       "      <td>vegetale</td>\n",
       "      <td>NaN</td>\n",
       "      <td>NaN</td>\n",
       "      <td>4.0</td>\n",
       "      <td>2.70</td>\n",
       "      <td>0.02</td>\n",
       "      <td>0.05</td>\n",
       "      <td>82.0</td>\n",
       "      <td>NaN</td>\n",
       "      <td>82.0</td>\n",
       "      <td>82.0</td>\n",
       "      <td>NaN</td>\n",
       "      <td>NaN</td>\n",
       "      <td>NaN</td>\n",
       "      <td>NaN</td>\n",
       "      <td>NaN</td>\n",
       "    </tr>\n",
       "    <tr>\n",
       "      <th>6</th>\n",
       "      <td>Afghanistan</td>\n",
       "      <td>Bière</td>\n",
       "      <td>vegetale</td>\n",
       "      <td>NaN</td>\n",
       "      <td>NaN</td>\n",
       "      <td>0.0</td>\n",
       "      <td>0.09</td>\n",
       "      <td>NaN</td>\n",
       "      <td>0.00</td>\n",
       "      <td>3.0</td>\n",
       "      <td>NaN</td>\n",
       "      <td>3.0</td>\n",
       "      <td>3.0</td>\n",
       "      <td>NaN</td>\n",
       "      <td>NaN</td>\n",
       "      <td>NaN</td>\n",
       "      <td>NaN</td>\n",
       "      <td>NaN</td>\n",
       "    </tr>\n",
       "  </tbody>\n",
       "</table>\n",
       "</div>"
      ],
      "text/plain": [
       "          Zone                Produit   Origine  Aliments pour animaux  \\\n",
       "1  Afghanistan        Agrumes, Autres  vegetale                    NaN   \n",
       "2  Afghanistan  Aliments pour enfants  vegetale                    NaN   \n",
       "3  Afghanistan                 Ananas  vegetale                    NaN   \n",
       "4  Afghanistan                Bananes  vegetale                    NaN   \n",
       "6  Afghanistan                  Bière  vegetale                    NaN   \n",
       "\n",
       "   Autres Utilisations  Disponibilité alimentaire (Kcal/personne/jour)  \\\n",
       "1                  NaN                                             1.0   \n",
       "2                  NaN                                             1.0   \n",
       "3                  NaN                                             0.0   \n",
       "4                  NaN                                             4.0   \n",
       "6                  NaN                                             0.0   \n",
       "\n",
       "   Disponibilité alimentaire en quantité (kg/personne/an)  \\\n",
       "1                                               1.29        \n",
       "2                                               0.06        \n",
       "3                                               0.00        \n",
       "4                                               2.70        \n",
       "6                                               0.09        \n",
       "\n",
       "   Disponibilité de matière grasse en quantité (g/personne/jour)  \\\n",
       "1                                               0.01               \n",
       "2                                               0.01               \n",
       "3                                                NaN               \n",
       "4                                               0.02               \n",
       "6                                                NaN               \n",
       "\n",
       "   Disponibilité de protéines en quantité (g/personne/jour)  \\\n",
       "1                                               0.02          \n",
       "2                                               0.03          \n",
       "3                                                NaN          \n",
       "4                                               0.05          \n",
       "6                                               0.00          \n",
       "\n",
       "   Disponibilité intérieure  Exportations - Quantité  Importations - Quantité  \\\n",
       "1                      41.0                      2.0                     40.0   \n",
       "2                       2.0                      NaN                      2.0   \n",
       "3                       0.0                      NaN                      0.0   \n",
       "4                      82.0                      NaN                     82.0   \n",
       "6                       3.0                      NaN                      3.0   \n",
       "\n",
       "   Nourriture  Pertes  Production  Semences  Traitement  Variation de stock  \n",
       "1        39.0     2.0         3.0       NaN         NaN                 NaN  \n",
       "2         2.0     NaN         NaN       NaN         NaN                 NaN  \n",
       "3         0.0     NaN         NaN       NaN         NaN                 NaN  \n",
       "4        82.0     NaN         NaN       NaN         NaN                 NaN  \n",
       "6         3.0     NaN         NaN       NaN         NaN                 NaN  "
      ]
     },
     "execution_count": 16,
     "metadata": {},
     "output_type": "execute_result"
    }
   ],
   "source": [
    "dispo_alimentaire_vegetaux = dispo_alimentaire.loc[dispo_alimentaire['Origine'] =='vegetale',:]\n",
    "dispo_alimentaire_vegetaux.head()"
   ]
  },
  {
   "cell_type": "code",
   "execution_count": 17,
   "id": "46dc7b58",
   "metadata": {},
   "outputs": [
    {
     "data": {
      "text/plain": [
       "Zone            Origine \n",
       "Afghanistan     vegetale    1871.0\n",
       "Afrique du Sud  vegetale    2533.0\n",
       "Albanie         vegetale    2203.0\n",
       "Algérie         vegetale    2915.0\n",
       "Allemagne       vegetale    2461.0\n",
       "Name: Disponibilité alimentaire (Kcal/personne/jour), dtype: float64"
      ]
     },
     "execution_count": 17,
     "metadata": {},
     "output_type": "execute_result"
    }
   ],
   "source": [
    "dispo_produits_vegetaux_par_pays = dispo_alimentaire_vegetaux.groupby(['Zone','Origine'])['Disponibilité alimentaire (Kcal/personne/jour)'].sum()  \n",
    "dispo_produits_vegetaux_par_pays.head()"
   ]
  },
  {
   "cell_type": "code",
   "execution_count": 18,
   "id": "ce27b3ed",
   "metadata": {},
   "outputs": [
    {
     "data": {
      "text/html": [
       "<div>\n",
       "<style scoped>\n",
       "    .dataframe tbody tr th:only-of-type {\n",
       "        vertical-align: middle;\n",
       "    }\n",
       "\n",
       "    .dataframe tbody tr th {\n",
       "        vertical-align: top;\n",
       "    }\n",
       "\n",
       "    .dataframe thead th {\n",
       "        text-align: right;\n",
       "    }\n",
       "</style>\n",
       "<table border=\"1\" class=\"dataframe\">\n",
       "  <thead>\n",
       "    <tr style=\"text-align: right;\">\n",
       "      <th></th>\n",
       "      <th>Zone</th>\n",
       "      <th>Année</th>\n",
       "      <th>Valeur</th>\n",
       "      <th>Disponibilité alimentaire (Kcal/personne/jour)</th>\n",
       "    </tr>\n",
       "  </thead>\n",
       "  <tbody>\n",
       "    <tr>\n",
       "      <th>0</th>\n",
       "      <td>Afghanistan</td>\n",
       "      <td>2017</td>\n",
       "      <td>36296.113</td>\n",
       "      <td>1871.0</td>\n",
       "    </tr>\n",
       "    <tr>\n",
       "      <th>1</th>\n",
       "      <td>Afrique du Sud</td>\n",
       "      <td>2017</td>\n",
       "      <td>57009.756</td>\n",
       "      <td>2533.0</td>\n",
       "    </tr>\n",
       "    <tr>\n",
       "      <th>2</th>\n",
       "      <td>Albanie</td>\n",
       "      <td>2017</td>\n",
       "      <td>2884.169</td>\n",
       "      <td>2203.0</td>\n",
       "    </tr>\n",
       "    <tr>\n",
       "      <th>3</th>\n",
       "      <td>Algérie</td>\n",
       "      <td>2017</td>\n",
       "      <td>41389.189</td>\n",
       "      <td>2915.0</td>\n",
       "    </tr>\n",
       "    <tr>\n",
       "      <th>4</th>\n",
       "      <td>Allemagne</td>\n",
       "      <td>2017</td>\n",
       "      <td>82658.409</td>\n",
       "      <td>2461.0</td>\n",
       "    </tr>\n",
       "  </tbody>\n",
       "</table>\n",
       "</div>"
      ],
      "text/plain": [
       "             Zone  Année     Valeur  \\\n",
       "0     Afghanistan   2017  36296.113   \n",
       "1  Afrique du Sud   2017  57009.756   \n",
       "2         Albanie   2017   2884.169   \n",
       "3         Algérie   2017  41389.189   \n",
       "4       Allemagne   2017  82658.409   \n",
       "\n",
       "   Disponibilité alimentaire (Kcal/personne/jour)  \n",
       "0                                          1871.0  \n",
       "1                                          2533.0  \n",
       "2                                          2203.0  \n",
       "3                                          2915.0  \n",
       "4                                          2461.0  "
      ]
     },
     "execution_count": 18,
     "metadata": {},
     "output_type": "execute_result"
    }
   ],
   "source": [
    "df_intermediaire2 = pd.merge(population_2017, dispo_produits_vegetaux_par_pays, on = 'Zone')\n",
    "df_intermediaire2.head()"
   ]
  },
  {
   "cell_type": "markdown",
   "id": "3b70ffb0",
   "metadata": {},
   "source": [
    "Calcul de la disponibilité alimentaire par pays, pour les produits végétaux"
   ]
  },
  {
   "cell_type": "code",
   "execution_count": 19,
   "id": "f5f5368d",
   "metadata": {},
   "outputs": [
    {
     "data": {
      "text/html": [
       "<div>\n",
       "<style scoped>\n",
       "    .dataframe tbody tr th:only-of-type {\n",
       "        vertical-align: middle;\n",
       "    }\n",
       "\n",
       "    .dataframe tbody tr th {\n",
       "        vertical-align: top;\n",
       "    }\n",
       "\n",
       "    .dataframe thead th {\n",
       "        text-align: right;\n",
       "    }\n",
       "</style>\n",
       "<table border=\"1\" class=\"dataframe\">\n",
       "  <thead>\n",
       "    <tr style=\"text-align: right;\">\n",
       "      <th></th>\n",
       "      <th>Zone</th>\n",
       "      <th>Année</th>\n",
       "      <th>Valeur</th>\n",
       "      <th>Disponibilité alimentaire (Kcal/personne/jour)</th>\n",
       "      <th>disponibilite_alimentaire_produits_vegetaux</th>\n",
       "    </tr>\n",
       "  </thead>\n",
       "  <tbody>\n",
       "    <tr>\n",
       "      <th>0</th>\n",
       "      <td>Afghanistan</td>\n",
       "      <td>2017</td>\n",
       "      <td>36296.113</td>\n",
       "      <td>1871.0</td>\n",
       "      <td>67910027.0</td>\n",
       "    </tr>\n",
       "    <tr>\n",
       "      <th>1</th>\n",
       "      <td>Afrique du Sud</td>\n",
       "      <td>2017</td>\n",
       "      <td>57009.756</td>\n",
       "      <td>2533.0</td>\n",
       "      <td>144405712.0</td>\n",
       "    </tr>\n",
       "    <tr>\n",
       "      <th>2</th>\n",
       "      <td>Albanie</td>\n",
       "      <td>2017</td>\n",
       "      <td>2884.169</td>\n",
       "      <td>2203.0</td>\n",
       "      <td>6353824.0</td>\n",
       "    </tr>\n",
       "    <tr>\n",
       "      <th>3</th>\n",
       "      <td>Algérie</td>\n",
       "      <td>2017</td>\n",
       "      <td>41389.189</td>\n",
       "      <td>2915.0</td>\n",
       "      <td>120649486.0</td>\n",
       "    </tr>\n",
       "    <tr>\n",
       "      <th>4</th>\n",
       "      <td>Allemagne</td>\n",
       "      <td>2017</td>\n",
       "      <td>82658.409</td>\n",
       "      <td>2461.0</td>\n",
       "      <td>203422345.0</td>\n",
       "    </tr>\n",
       "  </tbody>\n",
       "</table>\n",
       "</div>"
      ],
      "text/plain": [
       "             Zone  Année     Valeur  \\\n",
       "0     Afghanistan   2017  36296.113   \n",
       "1  Afrique du Sud   2017  57009.756   \n",
       "2         Albanie   2017   2884.169   \n",
       "3         Algérie   2017  41389.189   \n",
       "4       Allemagne   2017  82658.409   \n",
       "\n",
       "   Disponibilité alimentaire (Kcal/personne/jour)  \\\n",
       "0                                          1871.0   \n",
       "1                                          2533.0   \n",
       "2                                          2203.0   \n",
       "3                                          2915.0   \n",
       "4                                          2461.0   \n",
       "\n",
       "   disponibilite_alimentaire_produits_vegetaux  \n",
       "0                                   67910027.0  \n",
       "1                                  144405712.0  \n",
       "2                                    6353824.0  \n",
       "3                                  120649486.0  \n",
       "4                                  203422345.0  "
      ]
     },
     "execution_count": 19,
     "metadata": {},
     "output_type": "execute_result"
    }
   ],
   "source": [
    "df_intermediaire2['disponibilite_alimentaire_produits_vegetaux'] = round(df_intermediaire2['Disponibilité alimentaire (Kcal/personne/jour)']*df_intermediaire['Valeur'])\n",
    "df_intermediaire2.head()"
   ]
  },
  {
   "cell_type": "code",
   "execution_count": 20,
   "id": "baa0652e",
   "metadata": {},
   "outputs": [
    {
     "name": "stdout",
     "output_type": "stream",
     "text": [
      "La disponibilité alimentaire mondiale pour les produits végétaux est de 17260764208 Kcal/jour\n"
     ]
    }
   ],
   "source": [
    "dispo_alimentaire_mondiale_produits_vegetaux = round(df_intermediaire2['disponibilite_alimentaire_produits_vegetaux'].sum())\n",
    "print(\"La disponibilité alimentaire mondiale pour les produits végétaux est de\", dispo_alimentaire_mondiale_produits_vegetaux,\"Kcal/jour\" )"
   ]
  },
  {
   "cell_type": "code",
   "execution_count": 21,
   "id": "030fa9b1",
   "metadata": {},
   "outputs": [
    {
     "name": "stdout",
     "output_type": "stream",
     "text": [
      "Le nombre théorique de personnes qui pourraient être nourries uniquement de produits d'origine végétale est de 6904305683 personnes.\n"
     ]
    }
   ],
   "source": [
    "nombre_theorique_de_pers_qui_pourraient_etre_nourries_avec_des_vegetaux = round(dispo_alimentaire_mondiale_produits_vegetaux / 2500 *1000)\n",
    "print(\"Le nombre théorique de personnes qui pourraient être nourries uniquement de produits d'origine végétale est de\", nombre_theorique_de_pers_qui_pourraient_etre_nourries_avec_des_vegetaux , \"personnes.\")"
   ]
  },
  {
   "cell_type": "code",
   "execution_count": 22,
   "id": "0a2d5512",
   "metadata": {},
   "outputs": [
    {
     "name": "stdout",
     "output_type": "stream",
     "text": [
      "Cela représente 91 % de la population mondiale.\n"
     ]
    }
   ],
   "source": [
    "pourcentage = round( nombre_theorique_de_pers_qui_pourraient_etre_nourries_avec_des_vegetaux*100 / (population_2017['Valeur'].sum()*1000))\n",
    "print(\"Cela représente\", pourcentage, \"% de la population mondiale.\" )"
   ]
  },
  {
   "cell_type": "markdown",
   "id": "d7596d9b",
   "metadata": {},
   "source": [
    "**4. Utilisation de la disponibilité intérieure (utilisation intérieure), en particulier la part qui est attribuée à l’alimentation animale, celle qui est perdue et celle qui est concrètement utilisée pour l'alimentation humaine**"
   ]
  },
  {
   "cell_type": "markdown",
   "id": "5675fb56",
   "metadata": {},
   "source": [
    "Calcul de la disponibilité intérieure totale (mondiale)"
   ]
  },
  {
   "cell_type": "code",
   "execution_count": 23,
   "id": "468d9133",
   "metadata": {},
   "outputs": [
    {
     "data": {
      "text/plain": [
       "9848994.0"
      ]
     },
     "execution_count": 23,
     "metadata": {},
     "output_type": "execute_result"
    }
   ],
   "source": [
    "disponibilite_interieure_somme = dispo_alimentaire['Disponibilité intérieure'].sum()\n",
    "disponibilite_interieure_somme"
   ]
  },
  {
   "cell_type": "markdown",
   "id": "0650c773",
   "metadata": {},
   "source": [
    "Répartition en quantité (exprimée en milliers de tonnes) de la disponibilité intérieure totale par type d'utilisation"
   ]
  },
  {
   "cell_type": "code",
   "execution_count": 24,
   "id": "6f92cfeb",
   "metadata": {},
   "outputs": [
    {
     "data": {
      "text/plain": [
       "Aliments pour animaux    1304245.0\n",
       "Autres Utilisations       865023.0\n",
       "Nourriture               4876258.0\n",
       "Pertes                    453698.0\n",
       "Semences                  154681.0\n",
       "Traitement               2204687.0\n",
       "dtype: float64"
      ]
     },
     "execution_count": 24,
     "metadata": {},
     "output_type": "execute_result"
    }
   ],
   "source": [
    "dispo_interieure_repartition = dispo_alimentaire[['Aliments pour animaux','Autres Utilisations','Nourriture','Pertes','Semences','Traitement']].sum()\n",
    "dispo_interieure_repartition"
   ]
  },
  {
   "cell_type": "markdown",
   "id": "fa2eecd4",
   "metadata": {},
   "source": [
    "Retranscription de la répartition de la disponibilité intérieure par type d'utilisation en pourcentages"
   ]
  },
  {
   "cell_type": "code",
   "execution_count": 25,
   "id": "83a676ab",
   "metadata": {},
   "outputs": [
    {
     "data": {
      "text/plain": [
       "Aliments pour animaux    13.24\n",
       "Autres Utilisations       8.78\n",
       "Nourriture               49.51\n",
       "Pertes                    4.61\n",
       "Semences                  1.57\n",
       "Traitement               22.38\n",
       "dtype: float64"
      ]
     },
     "execution_count": 25,
     "metadata": {},
     "output_type": "execute_result"
    }
   ],
   "source": [
    "dispo_interieure_repartition_pourcentages = round(dispo_alimentaire[['Aliments pour animaux','Autres Utilisations','Nourriture','Pertes','Semences','Traitement']].sum()/disponibilite_interieure_somme*100,2)\n",
    "dispo_interieure_repartition_pourcentages"
   ]
  },
  {
   "cell_type": "code",
   "execution_count": 26,
   "id": "549dff79",
   "metadata": {},
   "outputs": [
    {
     "data": {
      "image/png": "[encoded data removed]",
      "text/plain": [
       "<Figure size 720x720 with 1 Axes>"
      ]
     },
     "metadata": {},
     "output_type": "display_data"
    }
   ],
   "source": [
    "plt.figure(figsize = (10,10))\n",
    "plt.title(\"Utilisation de la disponibilité intérieure en 2017\", fontsize=18)\n",
    "plt.pie(x=dispo_interieure_repartition_pourcentages,labels=['Aliments pour animaux','Autres Utilisations','Nourriture','Pertes','Semences','Traitement'],autopct='%.2f%%')\n",
    "plt.show()"
   ]
  },
  {
   "cell_type": "markdown",
   "id": "21603847",
   "metadata": {},
   "source": [
    "**5. Utilisation des céréales**"
   ]
  },
  {
   "cell_type": "markdown",
   "id": "afc11f30",
   "metadata": {},
   "source": [
    "Import des données depuis le site FAOSTAT pour l'année 2017"
   ]
  },
  {
   "cell_type": "code",
   "execution_count": 27,
   "id": "86c628d6",
   "metadata": {},
   "outputs": [
    {
     "data": {
      "text/html": [
       "<div>\n",
       "<style scoped>\n",
       "    .dataframe tbody tr th:only-of-type {\n",
       "        vertical-align: middle;\n",
       "    }\n",
       "\n",
       "    .dataframe tbody tr th {\n",
       "        vertical-align: top;\n",
       "    }\n",
       "\n",
       "    .dataframe thead th {\n",
       "        text-align: right;\n",
       "    }\n",
       "</style>\n",
       "<table border=\"1\" class=\"dataframe\">\n",
       "  <thead>\n",
       "    <tr style=\"text-align: right;\">\n",
       "      <th></th>\n",
       "      <th>Code Domaine</th>\n",
       "      <th>Domaine</th>\n",
       "      <th>Code zone (M49)</th>\n",
       "      <th>Zone</th>\n",
       "      <th>Code Élément</th>\n",
       "      <th>Élément</th>\n",
       "      <th>Code Produit (CPC)</th>\n",
       "      <th>Produit</th>\n",
       "      <th>Code année</th>\n",
       "      <th>Année</th>\n",
       "      <th>Unité</th>\n",
       "      <th>Valeur</th>\n",
       "      <th>Symbole</th>\n",
       "      <th>Description du Symbole</th>\n",
       "    </tr>\n",
       "  </thead>\n",
       "  <tbody>\n",
       "    <tr>\n",
       "      <th>0</th>\n",
       "      <td>FBS</td>\n",
       "      <td>Bilans Alimentaires (2010-)</td>\n",
       "      <td>1</td>\n",
       "      <td>Monde</td>\n",
       "      <td>5521</td>\n",
       "      <td>Aliments pour animaux</td>\n",
       "      <td>S2511</td>\n",
       "      <td>Blé et produits</td>\n",
       "      <td>2017</td>\n",
       "      <td>2017</td>\n",
       "      <td>Milliers de tonnes</td>\n",
       "      <td>124952</td>\n",
       "      <td>I</td>\n",
       "      <td>Valeur imputée\"</td>\n",
       "    </tr>\n",
       "    <tr>\n",
       "      <th>1</th>\n",
       "      <td>FBS</td>\n",
       "      <td>Bilans Alimentaires (2010-)</td>\n",
       "      <td>1</td>\n",
       "      <td>Monde</td>\n",
       "      <td>5527</td>\n",
       "      <td>Semences</td>\n",
       "      <td>S2511</td>\n",
       "      <td>Blé et produits</td>\n",
       "      <td>2017</td>\n",
       "      <td>2017</td>\n",
       "      <td>Milliers de tonnes</td>\n",
       "      <td>37880</td>\n",
       "      <td>I</td>\n",
       "      <td>Valeur imputée\"</td>\n",
       "    </tr>\n",
       "    <tr>\n",
       "      <th>2</th>\n",
       "      <td>FBS</td>\n",
       "      <td>Bilans Alimentaires (2010-)</td>\n",
       "      <td>1</td>\n",
       "      <td>Monde</td>\n",
       "      <td>5123</td>\n",
       "      <td>Pertes</td>\n",
       "      <td>S2511</td>\n",
       "      <td>Blé et produits</td>\n",
       "      <td>2017</td>\n",
       "      <td>2017</td>\n",
       "      <td>Milliers de tonnes</td>\n",
       "      <td>27380</td>\n",
       "      <td>I</td>\n",
       "      <td>Valeur imputée\"</td>\n",
       "    </tr>\n",
       "    <tr>\n",
       "      <th>3</th>\n",
       "      <td>FBS</td>\n",
       "      <td>Bilans Alimentaires (2010-)</td>\n",
       "      <td>1</td>\n",
       "      <td>Monde</td>\n",
       "      <td>5131</td>\n",
       "      <td>Traitement</td>\n",
       "      <td>S2511</td>\n",
       "      <td>Blé et produits</td>\n",
       "      <td>2017</td>\n",
       "      <td>2017</td>\n",
       "      <td>Milliers de tonnes</td>\n",
       "      <td>9999</td>\n",
       "      <td>I</td>\n",
       "      <td>Valeur imputée\"</td>\n",
       "    </tr>\n",
       "    <tr>\n",
       "      <th>4</th>\n",
       "      <td>FBS</td>\n",
       "      <td>Bilans Alimentaires (2010-)</td>\n",
       "      <td>1</td>\n",
       "      <td>Monde</td>\n",
       "      <td>5154</td>\n",
       "      <td>Autres utilisations (non alimentaire)</td>\n",
       "      <td>S2511</td>\n",
       "      <td>Blé et produits</td>\n",
       "      <td>2017</td>\n",
       "      <td>2017</td>\n",
       "      <td>Milliers de tonnes</td>\n",
       "      <td>24922</td>\n",
       "      <td>I</td>\n",
       "      <td>Valeur imputée\"</td>\n",
       "    </tr>\n",
       "  </tbody>\n",
       "</table>\n",
       "</div>"
      ],
      "text/plain": [
       "  Code Domaine                      Domaine  Code zone (M49)   Zone  \\\n",
       "0          FBS  Bilans Alimentaires (2010-)                1  Monde   \n",
       "1          FBS  Bilans Alimentaires (2010-)                1  Monde   \n",
       "2          FBS  Bilans Alimentaires (2010-)                1  Monde   \n",
       "3          FBS  Bilans Alimentaires (2010-)                1  Monde   \n",
       "4          FBS  Bilans Alimentaires (2010-)                1  Monde   \n",
       "\n",
       "   Code Élément                                Élément Code Produit (CPC)  \\\n",
       "0          5521                  Aliments pour animaux              S2511   \n",
       "1          5527                               Semences              S2511   \n",
       "2          5123                                 Pertes              S2511   \n",
       "3          5131                             Traitement              S2511   \n",
       "4          5154  Autres utilisations (non alimentaire)              S2511   \n",
       "\n",
       "           Produit  Code année  Année               Unité  Valeur Symbole  \\\n",
       "0  Blé et produits        2017   2017  Milliers de tonnes  124952       I   \n",
       "1  Blé et produits        2017   2017  Milliers de tonnes   37880       I   \n",
       "2  Blé et produits        2017   2017  Milliers de tonnes   27380       I   \n",
       "3  Blé et produits        2017   2017  Milliers de tonnes    9999       I   \n",
       "4  Blé et produits        2017   2017  Milliers de tonnes   24922       I   \n",
       "\n",
       "  Description du Symbole  \n",
       "0        Valeur imputée\"  \n",
       "1        Valeur imputée\"  \n",
       "2        Valeur imputée\"  \n",
       "3        Valeur imputée\"  \n",
       "4        Valeur imputée\"  "
      ]
     },
     "execution_count": 27,
     "metadata": {},
     "output_type": "execute_result"
    }
   ],
   "source": [
    "utilisation_des_cereales = pd.read_csv('cereales.csv')\n",
    "utilisation_des_cereales.head()"
   ]
  },
  {
   "cell_type": "markdown",
   "id": "fb346126",
   "metadata": {},
   "source": [
    "Répartition en quantité par type d'utilisation"
   ]
  },
  {
   "cell_type": "code",
   "execution_count": 28,
   "id": "191c1936",
   "metadata": {},
   "outputs": [
    {
     "data": {
      "text/plain": [
       "Élément\n",
       "Aliments pour animaux                     937088\n",
       "Autres utilisations (non alimentaire)     279701\n",
       "Nourriture                               1311797\n",
       "Pertes                                    135552\n",
       "Semences                                   80198\n",
       "Traitement                                110301\n",
       "Name: Valeur, dtype: int64"
      ]
     },
     "execution_count": 28,
     "metadata": {},
     "output_type": "execute_result"
    }
   ],
   "source": [
    "utilisation_des_cereales_repartition = utilisation_des_cereales.groupby(['Élément'])['Valeur'].sum()\n",
    "utilisation_des_cereales_repartition"
   ]
  },
  {
   "cell_type": "code",
   "execution_count": 29,
   "id": "83c6dd6a",
   "metadata": {},
   "outputs": [
    {
     "data": {
      "text/plain": [
       "2854637"
      ]
     },
     "execution_count": 29,
     "metadata": {},
     "output_type": "execute_result"
    }
   ],
   "source": [
    "total_cereales = utilisation_des_cereales['Valeur'].sum()\n",
    "total_cereales"
   ]
  },
  {
   "cell_type": "markdown",
   "id": "449f4320",
   "metadata": {},
   "source": [
    "Retranscription de la série précédente en pourcentages"
   ]
  },
  {
   "cell_type": "code",
   "execution_count": 30,
   "id": "9f1a5c1b",
   "metadata": {},
   "outputs": [
    {
     "data": {
      "text/plain": [
       "Élément\n",
       "Aliments pour animaux                    32.83\n",
       "Autres utilisations (non alimentaire)     9.80\n",
       "Nourriture                               45.95\n",
       "Pertes                                    4.75\n",
       "Semences                                  2.81\n",
       "Traitement                                3.86\n",
       "Name: Valeur, dtype: float64"
      ]
     },
     "execution_count": 30,
     "metadata": {},
     "output_type": "execute_result"
    }
   ],
   "source": [
    "utilisation_des_cereales_pourcentage = round(utilisation_des_cereales_repartition[['Aliments pour animaux','Autres utilisations (non alimentaire)','Nourriture','Pertes','Semences','Traitement']]/total_cereales*100,2)\n",
    "utilisation_des_cereales_pourcentage"
   ]
  },
  {
   "cell_type": "code",
   "execution_count": 31,
   "id": "74db9248",
   "metadata": {},
   "outputs": [
    {
     "data": {
      "image/png": "[encoded data removed]",
      "text/plain": [
       "<Figure size 720x720 with 1 Axes>"
      ]
     },
     "metadata": {},
     "output_type": "display_data"
    }
   ],
   "source": [
    "plt.figure(figsize = (10,10))\n",
    "plt.title(\"Utilisation des céréales en 2017\", fontsize=18)\n",
    "plt.pie(x=utilisation_des_cereales_pourcentage,labels=['Aliments pour animaux','Autres utilisations (non alimentaire)','Nourriture','Pertes','Semences','Traitement'],autopct='%.2f%%')\n",
    "plt.show()"
   ]
  },
  {
   "cell_type": "markdown",
   "id": "7da6089d",
   "metadata": {},
   "source": [
    "Répartition par type de produit céréalier"
   ]
  },
  {
   "cell_type": "code",
   "execution_count": 32,
   "id": "903d5403",
   "metadata": {},
   "outputs": [
    {
     "data": {
      "text/plain": [
       "Produit\n",
       "Avoine                  25348\n",
       "Blé et produits        732587\n",
       "Céréales, Autres        31359\n",
       "Maïs et produits      1109795\n",
       "Millet et produits      28198\n",
       "Orge et produits       142872\n",
       "Riz et produits        713968\n",
       "Seigle et produits      12675\n",
       "Sorgho et produits      57835\n",
       "Name: Valeur, dtype: int64"
      ]
     },
     "execution_count": 32,
     "metadata": {},
     "output_type": "execute_result"
    }
   ],
   "source": [
    "cereales = utilisation_des_cereales.groupby(['Produit'])['Valeur'].sum()\n",
    "cereales"
   ]
  },
  {
   "cell_type": "code",
   "execution_count": 33,
   "id": "5830725d",
   "metadata": {},
   "outputs": [
    {
     "data": {
      "text/plain": [
       "Produit\n",
       "Avoine                 0.89\n",
       "Blé et produits       25.66\n",
       "Céréales, Autres       1.10\n",
       "Maïs et produits      38.88\n",
       "Millet et produits     0.99\n",
       "Orge et produits       5.00\n",
       "Riz et produits       25.01\n",
       "Seigle et produits     0.44\n",
       "Sorgho et produits     2.03\n",
       "Name: Valeur, dtype: float64"
      ]
     },
     "execution_count": 33,
     "metadata": {},
     "output_type": "execute_result"
    }
   ],
   "source": [
    "cereales_pourcentages = round(cereales[['Avoine','Blé et produits','Céréales, Autres','Maïs et produits','Millet et produits','Orge et produits','Riz et produits','Seigle et produits','Sorgho et produits']]/total_cereales*100,2)\n",
    "cereales_pourcentages"
   ]
  },
  {
   "cell_type": "code",
   "execution_count": 34,
   "id": "ae95703e",
   "metadata": {},
   "outputs": [
    {
     "data": {
      "image/png": "[encoded data removed]",
      "text/plain": [
       "<Figure size 720x720 with 1 Axes>"
      ]
     },
     "metadata": {},
     "output_type": "display_data"
    }
   ],
   "source": [
    "plt.figure(figsize = (10,10))\n",
    "plt.title(\"Types de céréales produites en 2017\", fontsize=18)\n",
    "plt.pie(x=cereales_pourcentages,labels=['Avoine','Blé et produits','Céréales, Autres','Maïs et produits','Millet et produits','Orge et produits','Riz et produits','Seigle et produits','Sorgho et produits'],autopct='%.2f%%')\n",
    "plt.show()"
   ]
  },
  {
   "cell_type": "markdown",
   "id": "1e7ad01c",
   "metadata": {},
   "source": [
    "**6. Utilisation du manioc en Thaïlande**"
   ]
  },
  {
   "cell_type": "markdown",
   "id": "8aa941c3",
   "metadata": {},
   "source": [
    "Import des données depuis le site FAOSTAT"
   ]
  },
  {
   "cell_type": "markdown",
   "id": "8f3007f7",
   "metadata": {},
   "source": [
    "+ Disponibilité intérieure = Production + (Importations - Exportations) - variations de stock\n",
    "+ Disponibilité intérieure = Nourriture(alimentation humaine) + Aliments pour animaux + traitements + Autres utilisations + résidus + pertes"
   ]
  },
  {
   "cell_type": "code",
   "execution_count": 35,
   "id": "2373606a",
   "metadata": {},
   "outputs": [
    {
     "data": {
      "text/html": [
       "<div>\n",
       "<style scoped>\n",
       "    .dataframe tbody tr th:only-of-type {\n",
       "        vertical-align: middle;\n",
       "    }\n",
       "\n",
       "    .dataframe tbody tr th {\n",
       "        vertical-align: top;\n",
       "    }\n",
       "\n",
       "    .dataframe thead th {\n",
       "        text-align: right;\n",
       "    }\n",
       "</style>\n",
       "<table border=\"1\" class=\"dataframe\">\n",
       "  <thead>\n",
       "    <tr style=\"text-align: right;\">\n",
       "      <th></th>\n",
       "      <th>Code Domaine</th>\n",
       "      <th>Domaine</th>\n",
       "      <th>Code zone (M49)</th>\n",
       "      <th>Zone</th>\n",
       "      <th>Code Élément</th>\n",
       "      <th>Élément</th>\n",
       "      <th>Code Produit (CPC)</th>\n",
       "      <th>Produit</th>\n",
       "      <th>Code année</th>\n",
       "      <th>Année</th>\n",
       "      <th>Unité</th>\n",
       "      <th>Valeur</th>\n",
       "      <th>Symbole</th>\n",
       "      <th>Description du Symbole</th>\n",
       "    </tr>\n",
       "  </thead>\n",
       "  <tbody>\n",
       "    <tr>\n",
       "      <th>0</th>\n",
       "      <td>FBS</td>\n",
       "      <td>Bilans Alimentaires (2010-)</td>\n",
       "      <td>764</td>\n",
       "      <td>Thaïlande</td>\n",
       "      <td>5511</td>\n",
       "      <td>Production</td>\n",
       "      <td>S2532</td>\n",
       "      <td>Manioc et produits</td>\n",
       "      <td>2017</td>\n",
       "      <td>2017</td>\n",
       "      <td>Milliers de tonnes</td>\n",
       "      <td>30495.0</td>\n",
       "      <td>I</td>\n",
       "      <td>Valeur imputée</td>\n",
       "    </tr>\n",
       "    <tr>\n",
       "      <th>1</th>\n",
       "      <td>FBS</td>\n",
       "      <td>Bilans Alimentaires (2010-)</td>\n",
       "      <td>764</td>\n",
       "      <td>Thaïlande</td>\n",
       "      <td>5611</td>\n",
       "      <td>Importations - Quantité</td>\n",
       "      <td>S2532</td>\n",
       "      <td>Manioc et produits</td>\n",
       "      <td>2017</td>\n",
       "      <td>2017</td>\n",
       "      <td>Milliers de tonnes</td>\n",
       "      <td>2355.0</td>\n",
       "      <td>I</td>\n",
       "      <td>Valeur imputée</td>\n",
       "    </tr>\n",
       "    <tr>\n",
       "      <th>2</th>\n",
       "      <td>FBS</td>\n",
       "      <td>Bilans Alimentaires (2010-)</td>\n",
       "      <td>764</td>\n",
       "      <td>Thaïlande</td>\n",
       "      <td>5072</td>\n",
       "      <td>Variation de stock</td>\n",
       "      <td>S2532</td>\n",
       "      <td>Manioc et produits</td>\n",
       "      <td>2017</td>\n",
       "      <td>2017</td>\n",
       "      <td>Milliers de tonnes</td>\n",
       "      <td>-1316.0</td>\n",
       "      <td>I</td>\n",
       "      <td>Valeur imputée</td>\n",
       "    </tr>\n",
       "    <tr>\n",
       "      <th>3</th>\n",
       "      <td>FBS</td>\n",
       "      <td>Bilans Alimentaires (2010-)</td>\n",
       "      <td>764</td>\n",
       "      <td>Thaïlande</td>\n",
       "      <td>5911</td>\n",
       "      <td>Exportations - Quantité</td>\n",
       "      <td>S2532</td>\n",
       "      <td>Manioc et produits</td>\n",
       "      <td>2017</td>\n",
       "      <td>2017</td>\n",
       "      <td>Milliers de tonnes</td>\n",
       "      <td>29409.0</td>\n",
       "      <td>I</td>\n",
       "      <td>Valeur imputée</td>\n",
       "    </tr>\n",
       "    <tr>\n",
       "      <th>4</th>\n",
       "      <td>FBS</td>\n",
       "      <td>Bilans Alimentaires (2010-)</td>\n",
       "      <td>764</td>\n",
       "      <td>Thaïlande</td>\n",
       "      <td>5301</td>\n",
       "      <td>Disponibilité intérieure</td>\n",
       "      <td>S2532</td>\n",
       "      <td>Manioc et produits</td>\n",
       "      <td>2017</td>\n",
       "      <td>2017</td>\n",
       "      <td>Milliers de tonnes</td>\n",
       "      <td>4757.0</td>\n",
       "      <td>I</td>\n",
       "      <td>Valeur imputée</td>\n",
       "    </tr>\n",
       "  </tbody>\n",
       "</table>\n",
       "</div>"
      ],
      "text/plain": [
       "  Code Domaine                      Domaine  Code zone (M49)       Zone  \\\n",
       "0          FBS  Bilans Alimentaires (2010-)              764  Thaïlande   \n",
       "1          FBS  Bilans Alimentaires (2010-)              764  Thaïlande   \n",
       "2          FBS  Bilans Alimentaires (2010-)              764  Thaïlande   \n",
       "3          FBS  Bilans Alimentaires (2010-)              764  Thaïlande   \n",
       "4          FBS  Bilans Alimentaires (2010-)              764  Thaïlande   \n",
       "\n",
       "   Code Élément                   Élément Code Produit (CPC)  \\\n",
       "0          5511                Production              S2532   \n",
       "1          5611   Importations - Quantité              S2532   \n",
       "2          5072        Variation de stock              S2532   \n",
       "3          5911   Exportations - Quantité              S2532   \n",
       "4          5301  Disponibilité intérieure              S2532   \n",
       "\n",
       "              Produit  Code année  Année               Unité   Valeur Symbole  \\\n",
       "0  Manioc et produits        2017   2017  Milliers de tonnes  30495.0       I   \n",
       "1  Manioc et produits        2017   2017  Milliers de tonnes   2355.0       I   \n",
       "2  Manioc et produits        2017   2017  Milliers de tonnes  -1316.0       I   \n",
       "3  Manioc et produits        2017   2017  Milliers de tonnes  29409.0       I   \n",
       "4  Manioc et produits        2017   2017  Milliers de tonnes   4757.0       I   \n",
       "\n",
       "  Description du Symbole  \n",
       "0         Valeur imputée  \n",
       "1         Valeur imputée  \n",
       "2         Valeur imputée  \n",
       "3         Valeur imputée  \n",
       "4         Valeur imputée  "
      ]
     },
     "execution_count": 35,
     "metadata": {},
     "output_type": "execute_result"
    }
   ],
   "source": [
    "manioc = pd.read_csv('manioc.csv')\n",
    "manioc.head()"
   ]
  },
  {
   "cell_type": "code",
   "execution_count": 36,
   "id": "2c60f8f1",
   "metadata": {},
   "outputs": [
    {
     "data": {
      "text/html": [
       "<div>\n",
       "<style scoped>\n",
       "    .dataframe tbody tr th:only-of-type {\n",
       "        vertical-align: middle;\n",
       "    }\n",
       "\n",
       "    .dataframe tbody tr th {\n",
       "        vertical-align: top;\n",
       "    }\n",
       "\n",
       "    .dataframe thead th {\n",
       "        text-align: right;\n",
       "    }\n",
       "</style>\n",
       "<table border=\"1\" class=\"dataframe\">\n",
       "  <thead>\n",
       "    <tr style=\"text-align: right;\">\n",
       "      <th></th>\n",
       "      <th>Élément</th>\n",
       "      <th>Valeur</th>\n",
       "    </tr>\n",
       "  </thead>\n",
       "  <tbody>\n",
       "    <tr>\n",
       "      <th>0</th>\n",
       "      <td>Production</td>\n",
       "      <td>30495.00</td>\n",
       "    </tr>\n",
       "    <tr>\n",
       "      <th>1</th>\n",
       "      <td>Importations - Quantité</td>\n",
       "      <td>2355.00</td>\n",
       "    </tr>\n",
       "    <tr>\n",
       "      <th>2</th>\n",
       "      <td>Variation de stock</td>\n",
       "      <td>-1316.00</td>\n",
       "    </tr>\n",
       "    <tr>\n",
       "      <th>3</th>\n",
       "      <td>Exportations - Quantité</td>\n",
       "      <td>29409.00</td>\n",
       "    </tr>\n",
       "    <tr>\n",
       "      <th>4</th>\n",
       "      <td>Disponibilité intérieure</td>\n",
       "      <td>4757.00</td>\n",
       "    </tr>\n",
       "    <tr>\n",
       "      <th>5</th>\n",
       "      <td>Aliments pour animaux</td>\n",
       "      <td>1360.00</td>\n",
       "    </tr>\n",
       "    <tr>\n",
       "      <th>6</th>\n",
       "      <td>Pertes</td>\n",
       "      <td>2295.00</td>\n",
       "    </tr>\n",
       "    <tr>\n",
       "      <th>7</th>\n",
       "      <td>Traitement</td>\n",
       "      <td>0.00</td>\n",
       "    </tr>\n",
       "    <tr>\n",
       "      <th>8</th>\n",
       "      <td>Autres utilisations (non alimentaire)</td>\n",
       "      <td>949.00</td>\n",
       "    </tr>\n",
       "    <tr>\n",
       "      <th>9</th>\n",
       "      <td>Résidus</td>\n",
       "      <td>0.00</td>\n",
       "    </tr>\n",
       "    <tr>\n",
       "      <th>10</th>\n",
       "      <td>Nourriture</td>\n",
       "      <td>153.00</td>\n",
       "    </tr>\n",
       "    <tr>\n",
       "      <th>11</th>\n",
       "      <td>Disponibilité alimentaire en quantité (kg/pers...</td>\n",
       "      <td>2.21</td>\n",
       "    </tr>\n",
       "    <tr>\n",
       "      <th>12</th>\n",
       "      <td>Disponibilité alimentaire (Kcal/personne/jour)</td>\n",
       "      <td>6.00</td>\n",
       "    </tr>\n",
       "    <tr>\n",
       "      <th>13</th>\n",
       "      <td>Disponibilité de protéines en quantité (g/pers...</td>\n",
       "      <td>0.01</td>\n",
       "    </tr>\n",
       "    <tr>\n",
       "      <th>14</th>\n",
       "      <td>Disponibilité de matière grasse en quantité (g...</td>\n",
       "      <td>0.01</td>\n",
       "    </tr>\n",
       "  </tbody>\n",
       "</table>\n",
       "</div>"
      ],
      "text/plain": [
       "                                              Élément    Valeur\n",
       "0                                          Production  30495.00\n",
       "1                             Importations - Quantité   2355.00\n",
       "2                                  Variation de stock  -1316.00\n",
       "3                             Exportations - Quantité  29409.00\n",
       "4                            Disponibilité intérieure   4757.00\n",
       "5                               Aliments pour animaux   1360.00\n",
       "6                                              Pertes   2295.00\n",
       "7                                          Traitement      0.00\n",
       "8               Autres utilisations (non alimentaire)    949.00\n",
       "9                                             Résidus      0.00\n",
       "10                                         Nourriture    153.00\n",
       "11  Disponibilité alimentaire en quantité (kg/pers...      2.21\n",
       "12     Disponibilité alimentaire (Kcal/personne/jour)      6.00\n",
       "13  Disponibilité de protéines en quantité (g/pers...      0.01\n",
       "14  Disponibilité de matière grasse en quantité (g...      0.01"
      ]
     },
     "execution_count": 36,
     "metadata": {},
     "output_type": "execute_result"
    }
   ],
   "source": [
    "manioc = manioc.loc[:,['Élément','Valeur']]\n",
    "manioc"
   ]
  },
  {
   "cell_type": "code",
   "execution_count": 37,
   "id": "bc891747",
   "metadata": {},
   "outputs": [
    {
     "name": "stdout",
     "output_type": "stream",
     "text": [
      "la production de manioc en thaïlande est de 30495.0 milliers de tonnes\n"
     ]
    }
   ],
   "source": [
    "production = manioc.iloc[0,1]\n",
    "print(\"la production de manioc en thaïlande est de\", production, \"milliers de tonnes\")"
   ]
  },
  {
   "cell_type": "code",
   "execution_count": 38,
   "id": "365da854",
   "metadata": {},
   "outputs": [
    {
     "data": {
      "text/html": [
       "<div>\n",
       "<style scoped>\n",
       "    .dataframe tbody tr th:only-of-type {\n",
       "        vertical-align: middle;\n",
       "    }\n",
       "\n",
       "    .dataframe tbody tr th {\n",
       "        vertical-align: top;\n",
       "    }\n",
       "\n",
       "    .dataframe thead th {\n",
       "        text-align: right;\n",
       "    }\n",
       "</style>\n",
       "<table border=\"1\" class=\"dataframe\">\n",
       "  <thead>\n",
       "    <tr style=\"text-align: right;\">\n",
       "      <th></th>\n",
       "      <th>Élément</th>\n",
       "      <th>Valeur</th>\n",
       "    </tr>\n",
       "  </thead>\n",
       "  <tbody>\n",
       "    <tr>\n",
       "      <th>0</th>\n",
       "      <td>Production</td>\n",
       "      <td>30495.0</td>\n",
       "    </tr>\n",
       "    <tr>\n",
       "      <th>1</th>\n",
       "      <td>Importations - Quantité</td>\n",
       "      <td>2355.0</td>\n",
       "    </tr>\n",
       "    <tr>\n",
       "      <th>2</th>\n",
       "      <td>Variation de stock</td>\n",
       "      <td>-1316.0</td>\n",
       "    </tr>\n",
       "    <tr>\n",
       "      <th>3</th>\n",
       "      <td>Exportations - Quantité</td>\n",
       "      <td>29409.0</td>\n",
       "    </tr>\n",
       "    <tr>\n",
       "      <th>4</th>\n",
       "      <td>Disponibilité intérieure</td>\n",
       "      <td>4757.0</td>\n",
       "    </tr>\n",
       "  </tbody>\n",
       "</table>\n",
       "</div>"
      ],
      "text/plain": [
       "                    Élément   Valeur\n",
       "0                Production  30495.0\n",
       "1   Importations - Quantité   2355.0\n",
       "2        Variation de stock  -1316.0\n",
       "3   Exportations - Quantité  29409.0\n",
       "4  Disponibilité intérieure   4757.0"
      ]
     },
     "execution_count": 38,
     "metadata": {},
     "output_type": "execute_result"
    }
   ],
   "source": [
    "manioc_vue = manioc.iloc[0:5,0:2]\n",
    "manioc_vue"
   ]
  },
  {
   "cell_type": "code",
   "execution_count": 39,
   "id": "4b854d87",
   "metadata": {},
   "outputs": [
    {
     "data": {
      "image/png": "[encoded data removed]",
      "text/plain": [
       "<Figure size 1008x432 with 1 Axes>"
      ]
     },
     "metadata": {
      "needs_background": "light"
     },
     "output_type": "display_data"
    }
   ],
   "source": [
    "plt.figure(figsize = (14,6))\n",
    "plt.xlabel(\"Elément\")\n",
    "plt.ylabel(\"Valeurs\")\n",
    "plt.title(\"Importations et exportations du manioc en Thaïlande au vu de la quantité produite\", fontsize=18)\n",
    "plt.bar(height= manioc_vue['Valeur'],x=manioc_vue['Élément'])\n",
    "plt.show()"
   ]
  },
  {
   "cell_type": "markdown",
   "id": "373622b5",
   "metadata": {},
   "source": [
    "Nous pouvons conclure de ce graphique que la Thaïlande exporte pratiquement la totalité de la quantité de manioc produite dans le pays"
   ]
  },
  {
   "cell_type": "markdown",
   "id": "93b34b6b",
   "metadata": {},
   "source": [
    "Regardons maintenant comment la Thaïlande utilise sa disponibilité intérieure en manioc"
   ]
  },
  {
   "cell_type": "code",
   "execution_count": 40,
   "id": "0db737f8",
   "metadata": {},
   "outputs": [
    {
     "data": {
      "text/html": [
       "<div>\n",
       "<style scoped>\n",
       "    .dataframe tbody tr th:only-of-type {\n",
       "        vertical-align: middle;\n",
       "    }\n",
       "\n",
       "    .dataframe tbody tr th {\n",
       "        vertical-align: top;\n",
       "    }\n",
       "\n",
       "    .dataframe thead th {\n",
       "        text-align: right;\n",
       "    }\n",
       "</style>\n",
       "<table border=\"1\" class=\"dataframe\">\n",
       "  <thead>\n",
       "    <tr style=\"text-align: right;\">\n",
       "      <th></th>\n",
       "      <th>Élément</th>\n",
       "      <th>Valeur</th>\n",
       "    </tr>\n",
       "  </thead>\n",
       "  <tbody>\n",
       "    <tr>\n",
       "      <th>5</th>\n",
       "      <td>Aliments pour animaux</td>\n",
       "      <td>1360.0</td>\n",
       "    </tr>\n",
       "    <tr>\n",
       "      <th>6</th>\n",
       "      <td>Pertes</td>\n",
       "      <td>2295.0</td>\n",
       "    </tr>\n",
       "    <tr>\n",
       "      <th>7</th>\n",
       "      <td>Traitement</td>\n",
       "      <td>0.0</td>\n",
       "    </tr>\n",
       "    <tr>\n",
       "      <th>8</th>\n",
       "      <td>Autres utilisations (non alimentaire)</td>\n",
       "      <td>949.0</td>\n",
       "    </tr>\n",
       "    <tr>\n",
       "      <th>9</th>\n",
       "      <td>Résidus</td>\n",
       "      <td>0.0</td>\n",
       "    </tr>\n",
       "    <tr>\n",
       "      <th>10</th>\n",
       "      <td>Nourriture</td>\n",
       "      <td>153.0</td>\n",
       "    </tr>\n",
       "  </tbody>\n",
       "</table>\n",
       "</div>"
      ],
      "text/plain": [
       "                                  Élément  Valeur\n",
       "5                   Aliments pour animaux  1360.0\n",
       "6                                  Pertes  2295.0\n",
       "7                              Traitement     0.0\n",
       "8   Autres utilisations (non alimentaire)   949.0\n",
       "9                                 Résidus     0.0\n",
       "10                             Nourriture   153.0"
      ]
     },
     "execution_count": 40,
     "metadata": {},
     "output_type": "execute_result"
    }
   ],
   "source": [
    "manioc_vue_2 = manioc.iloc[5:11,0:2]\n",
    "manioc_vue_2"
   ]
  },
  {
   "cell_type": "code",
   "execution_count": 41,
   "id": "6e947de9",
   "metadata": {},
   "outputs": [
    {
     "data": {
      "image/png": "[encoded data removed]",
      "text/plain": [
       "<Figure size 720x720 with 1 Axes>"
      ]
     },
     "metadata": {},
     "output_type": "display_data"
    }
   ],
   "source": [
    "plt.figure(figsize = (10,10))\n",
    "plt.title(\"Utilisation du manioc en Thaïlande\", fontsize=18)\n",
    "plt.pie(x=manioc_vue_2['Valeur'],labels=manioc_vue_2['Élément'],autopct='%.2f%%', explode=(0, 0.05, 0, 0, 0, 0))\n",
    "plt.show()"
   ]
  },
  {
   "cell_type": "markdown",
   "id": "8f762291",
   "metadata": {},
   "source": [
    "La grande partie du manioc est utilisée pour l'alimentation animale. La Thaïlande perd la moitié de sa disponibilité intéreieure en manioc"
   ]
  },
  {
   "cell_type": "markdown",
   "id": "808c60d1",
   "metadata": {},
   "source": [
    "**7. Sous-nutrition dans le monde**"
   ]
  },
  {
   "cell_type": "markdown",
   "id": "0747d78d",
   "metadata": {},
   "source": [
    "Regardons le pourcentage de personnes en état de sous-nutrition dans les pays où la sous-nutrition est la plus marquée. "
   ]
  },
  {
   "cell_type": "code",
   "execution_count": 42,
   "id": "eba624e3",
   "metadata": {},
   "outputs": [
    {
     "data": {
      "text/html": [
       "<div>\n",
       "<style scoped>\n",
       "    .dataframe tbody tr th:only-of-type {\n",
       "        vertical-align: middle;\n",
       "    }\n",
       "\n",
       "    .dataframe tbody tr th {\n",
       "        vertical-align: top;\n",
       "    }\n",
       "\n",
       "    .dataframe thead th {\n",
       "        text-align: right;\n",
       "    }\n",
       "</style>\n",
       "<table border=\"1\" class=\"dataframe\">\n",
       "  <thead>\n",
       "    <tr style=\"text-align: right;\">\n",
       "      <th></th>\n",
       "      <th>Zone</th>\n",
       "      <th>Année_x</th>\n",
       "      <th>Valeur_x</th>\n",
       "      <th>Année_y</th>\n",
       "      <th>Valeur_y</th>\n",
       "    </tr>\n",
       "  </thead>\n",
       "  <tbody>\n",
       "    <tr>\n",
       "      <th>0</th>\n",
       "      <td>Afghanistan</td>\n",
       "      <td>2017</td>\n",
       "      <td>36296.113</td>\n",
       "      <td>2016-2018</td>\n",
       "      <td>10.5</td>\n",
       "    </tr>\n",
       "    <tr>\n",
       "      <th>1</th>\n",
       "      <td>Afrique du Sud</td>\n",
       "      <td>2017</td>\n",
       "      <td>57009.756</td>\n",
       "      <td>2016-2018</td>\n",
       "      <td>3.1</td>\n",
       "    </tr>\n",
       "    <tr>\n",
       "      <th>2</th>\n",
       "      <td>Albanie</td>\n",
       "      <td>2017</td>\n",
       "      <td>2884.169</td>\n",
       "      <td>2016-2018</td>\n",
       "      <td>0.1</td>\n",
       "    </tr>\n",
       "    <tr>\n",
       "      <th>3</th>\n",
       "      <td>Algérie</td>\n",
       "      <td>2017</td>\n",
       "      <td>41389.189</td>\n",
       "      <td>2016-2018</td>\n",
       "      <td>1.3</td>\n",
       "    </tr>\n",
       "    <tr>\n",
       "      <th>4</th>\n",
       "      <td>Allemagne</td>\n",
       "      <td>2017</td>\n",
       "      <td>82658.409</td>\n",
       "      <td>2016-2018</td>\n",
       "      <td>0.0</td>\n",
       "    </tr>\n",
       "    <tr>\n",
       "      <th>...</th>\n",
       "      <td>...</td>\n",
       "      <td>...</td>\n",
       "      <td>...</td>\n",
       "      <td>...</td>\n",
       "      <td>...</td>\n",
       "    </tr>\n",
       "    <tr>\n",
       "      <th>198</th>\n",
       "      <td>Venezuela (République bolivarienne du)</td>\n",
       "      <td>2017</td>\n",
       "      <td>29402.484</td>\n",
       "      <td>2016-2018</td>\n",
       "      <td>8.0</td>\n",
       "    </tr>\n",
       "    <tr>\n",
       "      <th>199</th>\n",
       "      <td>Viet Nam</td>\n",
       "      <td>2017</td>\n",
       "      <td>94600.648</td>\n",
       "      <td>2016-2018</td>\n",
       "      <td>6.5</td>\n",
       "    </tr>\n",
       "    <tr>\n",
       "      <th>200</th>\n",
       "      <td>Yémen</td>\n",
       "      <td>2017</td>\n",
       "      <td>27834.819</td>\n",
       "      <td>2016-2018</td>\n",
       "      <td>0.0</td>\n",
       "    </tr>\n",
       "    <tr>\n",
       "      <th>201</th>\n",
       "      <td>Zambie</td>\n",
       "      <td>2017</td>\n",
       "      <td>16853.599</td>\n",
       "      <td>2016-2018</td>\n",
       "      <td>0.0</td>\n",
       "    </tr>\n",
       "    <tr>\n",
       "      <th>202</th>\n",
       "      <td>Zimbabwe</td>\n",
       "      <td>2017</td>\n",
       "      <td>14236.595</td>\n",
       "      <td>2016-2018</td>\n",
       "      <td>0.0</td>\n",
       "    </tr>\n",
       "  </tbody>\n",
       "</table>\n",
       "<p>203 rows × 5 columns</p>\n",
       "</div>"
      ],
      "text/plain": [
       "                                       Zone  Année_x   Valeur_x    Année_y  \\\n",
       "0                               Afghanistan     2017  36296.113  2016-2018   \n",
       "1                            Afrique du Sud     2017  57009.756  2016-2018   \n",
       "2                                   Albanie     2017   2884.169  2016-2018   \n",
       "3                                   Algérie     2017  41389.189  2016-2018   \n",
       "4                                 Allemagne     2017  82658.409  2016-2018   \n",
       "..                                      ...      ...        ...        ...   \n",
       "198  Venezuela (République bolivarienne du)     2017  29402.484  2016-2018   \n",
       "199                                Viet Nam     2017  94600.648  2016-2018   \n",
       "200                                   Yémen     2017  27834.819  2016-2018   \n",
       "201                                  Zambie     2017  16853.599  2016-2018   \n",
       "202                                Zimbabwe     2017  14236.595  2016-2018   \n",
       "\n",
       "     Valeur_y  \n",
       "0        10.5  \n",
       "1         3.1  \n",
       "2         0.1  \n",
       "3         1.3  \n",
       "4         0.0  \n",
       "..        ...  \n",
       "198       8.0  \n",
       "199       6.5  \n",
       "200       0.0  \n",
       "201       0.0  \n",
       "202       0.0  \n",
       "\n",
       "[203 rows x 5 columns]"
      ]
     },
     "execution_count": 42,
     "metadata": {},
     "output_type": "execute_result"
    }
   ],
   "source": [
    "df_sous_nutrition = pd.merge(population_2017, sous_nutrition_2017, on = 'Zone')\n",
    "df_sous_nutrition"
   ]
  },
  {
   "cell_type": "code",
   "execution_count": 43,
   "id": "b90688c3",
   "metadata": {},
   "outputs": [
    {
     "data": {
      "text/html": [
       "<div>\n",
       "<style scoped>\n",
       "    .dataframe tbody tr th:only-of-type {\n",
       "        vertical-align: middle;\n",
       "    }\n",
       "\n",
       "    .dataframe tbody tr th {\n",
       "        vertical-align: top;\n",
       "    }\n",
       "\n",
       "    .dataframe thead th {\n",
       "        text-align: right;\n",
       "    }\n",
       "</style>\n",
       "<table border=\"1\" class=\"dataframe\">\n",
       "  <thead>\n",
       "    <tr style=\"text-align: right;\">\n",
       "      <th></th>\n",
       "      <th>Zone</th>\n",
       "      <th>Année_x</th>\n",
       "      <th>population</th>\n",
       "      <th>Année_y</th>\n",
       "      <th>personnes_sous_nutries</th>\n",
       "    </tr>\n",
       "  </thead>\n",
       "  <tbody>\n",
       "    <tr>\n",
       "      <th>0</th>\n",
       "      <td>Afghanistan</td>\n",
       "      <td>2017</td>\n",
       "      <td>36296.113</td>\n",
       "      <td>2016-2018</td>\n",
       "      <td>10.5</td>\n",
       "    </tr>\n",
       "    <tr>\n",
       "      <th>1</th>\n",
       "      <td>Afrique du Sud</td>\n",
       "      <td>2017</td>\n",
       "      <td>57009.756</td>\n",
       "      <td>2016-2018</td>\n",
       "      <td>3.1</td>\n",
       "    </tr>\n",
       "    <tr>\n",
       "      <th>2</th>\n",
       "      <td>Albanie</td>\n",
       "      <td>2017</td>\n",
       "      <td>2884.169</td>\n",
       "      <td>2016-2018</td>\n",
       "      <td>0.1</td>\n",
       "    </tr>\n",
       "    <tr>\n",
       "      <th>3</th>\n",
       "      <td>Algérie</td>\n",
       "      <td>2017</td>\n",
       "      <td>41389.189</td>\n",
       "      <td>2016-2018</td>\n",
       "      <td>1.3</td>\n",
       "    </tr>\n",
       "    <tr>\n",
       "      <th>4</th>\n",
       "      <td>Allemagne</td>\n",
       "      <td>2017</td>\n",
       "      <td>82658.409</td>\n",
       "      <td>2016-2018</td>\n",
       "      <td>0.0</td>\n",
       "    </tr>\n",
       "    <tr>\n",
       "      <th>...</th>\n",
       "      <td>...</td>\n",
       "      <td>...</td>\n",
       "      <td>...</td>\n",
       "      <td>...</td>\n",
       "      <td>...</td>\n",
       "    </tr>\n",
       "    <tr>\n",
       "      <th>198</th>\n",
       "      <td>Venezuela (République bolivarienne du)</td>\n",
       "      <td>2017</td>\n",
       "      <td>29402.484</td>\n",
       "      <td>2016-2018</td>\n",
       "      <td>8.0</td>\n",
       "    </tr>\n",
       "    <tr>\n",
       "      <th>199</th>\n",
       "      <td>Viet Nam</td>\n",
       "      <td>2017</td>\n",
       "      <td>94600.648</td>\n",
       "      <td>2016-2018</td>\n",
       "      <td>6.5</td>\n",
       "    </tr>\n",
       "    <tr>\n",
       "      <th>200</th>\n",
       "      <td>Yémen</td>\n",
       "      <td>2017</td>\n",
       "      <td>27834.819</td>\n",
       "      <td>2016-2018</td>\n",
       "      <td>0.0</td>\n",
       "    </tr>\n",
       "    <tr>\n",
       "      <th>201</th>\n",
       "      <td>Zambie</td>\n",
       "      <td>2017</td>\n",
       "      <td>16853.599</td>\n",
       "      <td>2016-2018</td>\n",
       "      <td>0.0</td>\n",
       "    </tr>\n",
       "    <tr>\n",
       "      <th>202</th>\n",
       "      <td>Zimbabwe</td>\n",
       "      <td>2017</td>\n",
       "      <td>14236.595</td>\n",
       "      <td>2016-2018</td>\n",
       "      <td>0.0</td>\n",
       "    </tr>\n",
       "  </tbody>\n",
       "</table>\n",
       "<p>203 rows × 5 columns</p>\n",
       "</div>"
      ],
      "text/plain": [
       "                                       Zone  Année_x  population    Année_y  \\\n",
       "0                               Afghanistan     2017   36296.113  2016-2018   \n",
       "1                            Afrique du Sud     2017   57009.756  2016-2018   \n",
       "2                                   Albanie     2017    2884.169  2016-2018   \n",
       "3                                   Algérie     2017   41389.189  2016-2018   \n",
       "4                                 Allemagne     2017   82658.409  2016-2018   \n",
       "..                                      ...      ...         ...        ...   \n",
       "198  Venezuela (République bolivarienne du)     2017   29402.484  2016-2018   \n",
       "199                                Viet Nam     2017   94600.648  2016-2018   \n",
       "200                                   Yémen     2017   27834.819  2016-2018   \n",
       "201                                  Zambie     2017   16853.599  2016-2018   \n",
       "202                                Zimbabwe     2017   14236.595  2016-2018   \n",
       "\n",
       "     personnes_sous_nutries  \n",
       "0                      10.5  \n",
       "1                       3.1  \n",
       "2                       0.1  \n",
       "3                       1.3  \n",
       "4                       0.0  \n",
       "..                      ...  \n",
       "198                     8.0  \n",
       "199                     6.5  \n",
       "200                     0.0  \n",
       "201                     0.0  \n",
       "202                     0.0  \n",
       "\n",
       "[203 rows x 5 columns]"
      ]
     },
     "execution_count": 43,
     "metadata": {},
     "output_type": "execute_result"
    }
   ],
   "source": [
    "df_sous_nutrition.rename(columns = {'Valeur_y':'personnes_sous_nutries'}, inplace=True)\n",
    "df_sous_nutrition.rename(columns = {'Valeur_x': 'population'}, inplace=True)\n",
    "df_sous_nutrition"
   ]
  },
  {
   "cell_type": "markdown",
   "id": "f48a5ce8",
   "metadata": {},
   "source": [
    "Calcul du pourcentage de personnes sous nutries par pays"
   ]
  },
  {
   "cell_type": "code",
   "execution_count": 44,
   "id": "a26949da",
   "metadata": {},
   "outputs": [
    {
     "data": {
      "text/html": [
       "<div>\n",
       "<style scoped>\n",
       "    .dataframe tbody tr th:only-of-type {\n",
       "        vertical-align: middle;\n",
       "    }\n",
       "\n",
       "    .dataframe tbody tr th {\n",
       "        vertical-align: top;\n",
       "    }\n",
       "\n",
       "    .dataframe thead th {\n",
       "        text-align: right;\n",
       "    }\n",
       "</style>\n",
       "<table border=\"1\" class=\"dataframe\">\n",
       "  <thead>\n",
       "    <tr style=\"text-align: right;\">\n",
       "      <th></th>\n",
       "      <th>Zone</th>\n",
       "      <th>Année_x</th>\n",
       "      <th>population</th>\n",
       "      <th>Année_y</th>\n",
       "      <th>personnes_sous_nutries</th>\n",
       "      <th>pourcentage_personnes_sous_nutries</th>\n",
       "    </tr>\n",
       "  </thead>\n",
       "  <tbody>\n",
       "    <tr>\n",
       "      <th>78</th>\n",
       "      <td>Haïti</td>\n",
       "      <td>2017</td>\n",
       "      <td>10982.366</td>\n",
       "      <td>2016-2018</td>\n",
       "      <td>5.3</td>\n",
       "      <td>48.26</td>\n",
       "    </tr>\n",
       "    <tr>\n",
       "      <th>157</th>\n",
       "      <td>République populaire démocratique de Corée</td>\n",
       "      <td>2017</td>\n",
       "      <td>25429.825</td>\n",
       "      <td>2016-2018</td>\n",
       "      <td>12.0</td>\n",
       "      <td>47.19</td>\n",
       "    </tr>\n",
       "    <tr>\n",
       "      <th>108</th>\n",
       "      <td>Madagascar</td>\n",
       "      <td>2017</td>\n",
       "      <td>25570.512</td>\n",
       "      <td>2016-2018</td>\n",
       "      <td>10.5</td>\n",
       "      <td>41.06</td>\n",
       "    </tr>\n",
       "    <tr>\n",
       "      <th>103</th>\n",
       "      <td>Libéria</td>\n",
       "      <td>2017</td>\n",
       "      <td>4702.226</td>\n",
       "      <td>2016-2018</td>\n",
       "      <td>1.8</td>\n",
       "      <td>38.28</td>\n",
       "    </tr>\n",
       "    <tr>\n",
       "      <th>100</th>\n",
       "      <td>Lesotho</td>\n",
       "      <td>2017</td>\n",
       "      <td>2091.534</td>\n",
       "      <td>2016-2018</td>\n",
       "      <td>0.8</td>\n",
       "      <td>38.25</td>\n",
       "    </tr>\n",
       "    <tr>\n",
       "      <th>183</th>\n",
       "      <td>Tchad</td>\n",
       "      <td>2017</td>\n",
       "      <td>15016.753</td>\n",
       "      <td>2016-2018</td>\n",
       "      <td>5.7</td>\n",
       "      <td>37.96</td>\n",
       "    </tr>\n",
       "    <tr>\n",
       "      <th>161</th>\n",
       "      <td>Rwanda</td>\n",
       "      <td>2017</td>\n",
       "      <td>11980.961</td>\n",
       "      <td>2016-2018</td>\n",
       "      <td>4.2</td>\n",
       "      <td>35.06</td>\n",
       "    </tr>\n",
       "    <tr>\n",
       "      <th>121</th>\n",
       "      <td>Mozambique</td>\n",
       "      <td>2017</td>\n",
       "      <td>28649.018</td>\n",
       "      <td>2016-2018</td>\n",
       "      <td>9.4</td>\n",
       "      <td>32.81</td>\n",
       "    </tr>\n",
       "    <tr>\n",
       "      <th>186</th>\n",
       "      <td>Timor-Leste</td>\n",
       "      <td>2017</td>\n",
       "      <td>1243.258</td>\n",
       "      <td>2016-2018</td>\n",
       "      <td>0.4</td>\n",
       "      <td>32.17</td>\n",
       "    </tr>\n",
       "    <tr>\n",
       "      <th>0</th>\n",
       "      <td>Afghanistan</td>\n",
       "      <td>2017</td>\n",
       "      <td>36296.113</td>\n",
       "      <td>2016-2018</td>\n",
       "      <td>10.5</td>\n",
       "      <td>28.93</td>\n",
       "    </tr>\n",
       "  </tbody>\n",
       "</table>\n",
       "</div>"
      ],
      "text/plain": [
       "                                           Zone  Année_x  population  \\\n",
       "78                                        Haïti     2017   10982.366   \n",
       "157  République populaire démocratique de Corée     2017   25429.825   \n",
       "108                                  Madagascar     2017   25570.512   \n",
       "103                                     Libéria     2017    4702.226   \n",
       "100                                     Lesotho     2017    2091.534   \n",
       "183                                       Tchad     2017   15016.753   \n",
       "161                                      Rwanda     2017   11980.961   \n",
       "121                                  Mozambique     2017   28649.018   \n",
       "186                                 Timor-Leste     2017    1243.258   \n",
       "0                                   Afghanistan     2017   36296.113   \n",
       "\n",
       "       Année_y  personnes_sous_nutries  pourcentage_personnes_sous_nutries  \n",
       "78   2016-2018                     5.3                               48.26  \n",
       "157  2016-2018                    12.0                               47.19  \n",
       "108  2016-2018                    10.5                               41.06  \n",
       "103  2016-2018                     1.8                               38.28  \n",
       "100  2016-2018                     0.8                               38.25  \n",
       "183  2016-2018                     5.7                               37.96  \n",
       "161  2016-2018                     4.2                               35.06  \n",
       "121  2016-2018                     9.4                               32.81  \n",
       "186  2016-2018                     0.4                               32.17  \n",
       "0    2016-2018                    10.5                               28.93  "
      ]
     },
     "execution_count": 44,
     "metadata": {},
     "output_type": "execute_result"
    }
   ],
   "source": [
    "df_sous_nutrition['pourcentage_personnes_sous_nutries'] = round(df_sous_nutrition['personnes_sous_nutries']*1000 / df_sous_nutrition['population'] * 100,2)\n",
    "df_sous_nutrition.sort_values('pourcentage_personnes_sous_nutries',ascending=False).head(10)"
   ]
  },
  {
   "cell_type": "markdown",
   "id": "f6ae4d15",
   "metadata": {},
   "source": [
    "Le pays comptant la plus grande proportion de personnes sous-nutries en 2017 est Haïti avec 48,3% de personnes en état de sous-nutrition."
   ]
  },
  {
   "cell_type": "markdown",
   "id": "91df09b7",
   "metadata": {},
   "source": [
    "**8. Pays ayant le plus bénéficié d'aide alimentaire depuis 2013**"
   ]
  },
  {
   "cell_type": "code",
   "execution_count": 45,
   "id": "e6bd198a",
   "metadata": {},
   "outputs": [
    {
     "data": {
      "text/html": [
       "<div>\n",
       "<style scoped>\n",
       "    .dataframe tbody tr th:only-of-type {\n",
       "        vertical-align: middle;\n",
       "    }\n",
       "\n",
       "    .dataframe tbody tr th {\n",
       "        vertical-align: top;\n",
       "    }\n",
       "\n",
       "    .dataframe thead th {\n",
       "        text-align: right;\n",
       "    }\n",
       "</style>\n",
       "<table border=\"1\" class=\"dataframe\">\n",
       "  <thead>\n",
       "    <tr style=\"text-align: right;\">\n",
       "      <th></th>\n",
       "      <th>Pays bénéficiaire</th>\n",
       "      <th>Année</th>\n",
       "      <th>Produit</th>\n",
       "      <th>Valeur</th>\n",
       "    </tr>\n",
       "  </thead>\n",
       "  <tbody>\n",
       "    <tr>\n",
       "      <th>0</th>\n",
       "      <td>Afghanistan</td>\n",
       "      <td>2013</td>\n",
       "      <td>Autres non-céréales</td>\n",
       "      <td>682</td>\n",
       "    </tr>\n",
       "    <tr>\n",
       "      <th>1</th>\n",
       "      <td>Afghanistan</td>\n",
       "      <td>2014</td>\n",
       "      <td>Autres non-céréales</td>\n",
       "      <td>335</td>\n",
       "    </tr>\n",
       "    <tr>\n",
       "      <th>2</th>\n",
       "      <td>Afghanistan</td>\n",
       "      <td>2013</td>\n",
       "      <td>Blé et Farin</td>\n",
       "      <td>39224</td>\n",
       "    </tr>\n",
       "    <tr>\n",
       "      <th>3</th>\n",
       "      <td>Afghanistan</td>\n",
       "      <td>2014</td>\n",
       "      <td>Blé et Farin</td>\n",
       "      <td>15160</td>\n",
       "    </tr>\n",
       "    <tr>\n",
       "      <th>4</th>\n",
       "      <td>Afghanistan</td>\n",
       "      <td>2013</td>\n",
       "      <td>Céréales</td>\n",
       "      <td>40504</td>\n",
       "    </tr>\n",
       "  </tbody>\n",
       "</table>\n",
       "</div>"
      ],
      "text/plain": [
       "  Pays bénéficiaire  Année              Produit  Valeur\n",
       "0       Afghanistan   2013  Autres non-céréales     682\n",
       "1       Afghanistan   2014  Autres non-céréales     335\n",
       "2       Afghanistan   2013         Blé et Farin   39224\n",
       "3       Afghanistan   2014         Blé et Farin   15160\n",
       "4       Afghanistan   2013             Céréales   40504"
      ]
     },
     "execution_count": 45,
     "metadata": {},
     "output_type": "execute_result"
    }
   ],
   "source": [
    "aide_alimentaire = pd.read_csv('aide_alimentaire.csv')\n",
    "aide_alimentaire.head()"
   ]
  },
  {
   "cell_type": "markdown",
   "id": "e792629e",
   "metadata": {},
   "source": [
    "Calcul du total de l'aide alimentaire accordée par pays depuis 2013 (somme de toutes les années)"
   ]
  },
  {
   "cell_type": "code",
   "execution_count": 46,
   "id": "7a069db9",
   "metadata": {},
   "outputs": [
    {
     "data": {
      "text/plain": [
       "Pays bénéficiaire\n",
       "République arabe syrienne                     1858943\n",
       "Éthiopie                                      1381294\n",
       "Yémen                                         1206484\n",
       "Soudan du Sud                                  695248\n",
       "Soudan                                         669784\n",
       "Kenya                                          552836\n",
       "Bangladesh                                     348188\n",
       "Somalie                                        292678\n",
       "République démocratique du Congo               288502\n",
       "Niger                                          276344\n",
       "Tchad                                          267966\n",
       "Pakistan                                       231072\n",
       "République populaire démocratique de Corée     187412\n",
       "Afghanistan                                    185452\n",
       "République-Unie de Tanzanie                    172022\n",
       "Philippines                                    171722\n",
       "Palestine                                      169684\n",
       "Mali                                           149586\n",
       "Haïti                                          116450\n",
       "Nicaragua                                      115332\n",
       "Name: Valeur, dtype: int64"
      ]
     },
     "execution_count": 46,
     "metadata": {},
     "output_type": "execute_result"
    }
   ],
   "source": [
    "pays_aide_alimentaire = aide_alimentaire.groupby(['Pays bénéficiaire'])['Valeur'].sum()\n",
    "pays_aide_alimentaire.sort_values(ascending = False).head(20)"
   ]
  },
  {
   "cell_type": "markdown",
   "id": "0968c270",
   "metadata": {},
   "source": [
    "Nous allons maintenant calculer quel montant par habitant a été accordé depuis 2013. Je récupère donc mes données de population par pays et je les joins à la précédente série des pays bénéficiaires. "
   ]
  },
  {
   "cell_type": "code",
   "execution_count": 47,
   "id": "2b31b4f2",
   "metadata": {},
   "outputs": [
    {
     "data": {
      "text/html": [
       "<div>\n",
       "<style scoped>\n",
       "    .dataframe tbody tr th:only-of-type {\n",
       "        vertical-align: middle;\n",
       "    }\n",
       "\n",
       "    .dataframe tbody tr th {\n",
       "        vertical-align: top;\n",
       "    }\n",
       "\n",
       "    .dataframe thead th {\n",
       "        text-align: right;\n",
       "    }\n",
       "</style>\n",
       "<table border=\"1\" class=\"dataframe\">\n",
       "  <thead>\n",
       "    <tr style=\"text-align: right;\">\n",
       "      <th></th>\n",
       "      <th>Valeur_x</th>\n",
       "      <th>Zone</th>\n",
       "      <th>Année</th>\n",
       "      <th>Valeur_y</th>\n",
       "    </tr>\n",
       "  </thead>\n",
       "  <tbody>\n",
       "    <tr>\n",
       "      <th>0</th>\n",
       "      <td>185452</td>\n",
       "      <td>Afghanistan</td>\n",
       "      <td>2017</td>\n",
       "      <td>36296.113</td>\n",
       "    </tr>\n",
       "    <tr>\n",
       "      <th>1</th>\n",
       "      <td>81114</td>\n",
       "      <td>Algérie</td>\n",
       "      <td>2017</td>\n",
       "      <td>41389.189</td>\n",
       "    </tr>\n",
       "    <tr>\n",
       "      <th>2</th>\n",
       "      <td>5014</td>\n",
       "      <td>Angola</td>\n",
       "      <td>2017</td>\n",
       "      <td>29816.766</td>\n",
       "    </tr>\n",
       "    <tr>\n",
       "      <th>3</th>\n",
       "      <td>348188</td>\n",
       "      <td>Bangladesh</td>\n",
       "      <td>2017</td>\n",
       "      <td>159685.424</td>\n",
       "    </tr>\n",
       "    <tr>\n",
       "      <th>4</th>\n",
       "      <td>2666</td>\n",
       "      <td>Bhoutan</td>\n",
       "      <td>2017</td>\n",
       "      <td>745.563</td>\n",
       "    </tr>\n",
       "    <tr>\n",
       "      <th>...</th>\n",
       "      <td>...</td>\n",
       "      <td>...</td>\n",
       "      <td>...</td>\n",
       "      <td>...</td>\n",
       "    </tr>\n",
       "    <tr>\n",
       "      <th>70</th>\n",
       "      <td>3026</td>\n",
       "      <td>Zambie</td>\n",
       "      <td>2017</td>\n",
       "      <td>16853.599</td>\n",
       "    </tr>\n",
       "    <tr>\n",
       "      <th>71</th>\n",
       "      <td>62570</td>\n",
       "      <td>Zimbabwe</td>\n",
       "      <td>2017</td>\n",
       "      <td>14236.595</td>\n",
       "    </tr>\n",
       "    <tr>\n",
       "      <th>72</th>\n",
       "      <td>1122</td>\n",
       "      <td>Égypte</td>\n",
       "      <td>2017</td>\n",
       "      <td>96442.591</td>\n",
       "    </tr>\n",
       "    <tr>\n",
       "      <th>73</th>\n",
       "      <td>1362</td>\n",
       "      <td>Équateur</td>\n",
       "      <td>2017</td>\n",
       "      <td>16785.361</td>\n",
       "    </tr>\n",
       "    <tr>\n",
       "      <th>74</th>\n",
       "      <td>1381294</td>\n",
       "      <td>Éthiopie</td>\n",
       "      <td>2017</td>\n",
       "      <td>106399.924</td>\n",
       "    </tr>\n",
       "  </tbody>\n",
       "</table>\n",
       "<p>75 rows × 4 columns</p>\n",
       "</div>"
      ],
      "text/plain": [
       "    Valeur_x         Zone  Année    Valeur_y\n",
       "0     185452  Afghanistan   2017   36296.113\n",
       "1      81114      Algérie   2017   41389.189\n",
       "2       5014       Angola   2017   29816.766\n",
       "3     348188   Bangladesh   2017  159685.424\n",
       "4       2666      Bhoutan   2017     745.563\n",
       "..       ...          ...    ...         ...\n",
       "70      3026       Zambie   2017   16853.599\n",
       "71     62570     Zimbabwe   2017   14236.595\n",
       "72      1122       Égypte   2017   96442.591\n",
       "73      1362     Équateur   2017   16785.361\n",
       "74   1381294     Éthiopie   2017  106399.924\n",
       "\n",
       "[75 rows x 4 columns]"
      ]
     },
     "execution_count": 47,
     "metadata": {},
     "output_type": "execute_result"
    }
   ],
   "source": [
    "aide_alimentaire_par_personne = pd.merge(pays_aide_alimentaire,population_2017, left_on = ['Pays bénéficiaire'], right_on =['Zone'])\n",
    "aide_alimentaire_par_personne"
   ]
  },
  {
   "cell_type": "markdown",
   "id": "f0976697",
   "metadata": {},
   "source": [
    "Je renomme mes colonnes valeurs pour plus de lisibilité. "
   ]
  },
  {
   "cell_type": "code",
   "execution_count": 48,
   "id": "53fb45af",
   "metadata": {},
   "outputs": [
    {
     "data": {
      "text/html": [
       "<div>\n",
       "<style scoped>\n",
       "    .dataframe tbody tr th:only-of-type {\n",
       "        vertical-align: middle;\n",
       "    }\n",
       "\n",
       "    .dataframe tbody tr th {\n",
       "        vertical-align: top;\n",
       "    }\n",
       "\n",
       "    .dataframe thead th {\n",
       "        text-align: right;\n",
       "    }\n",
       "</style>\n",
       "<table border=\"1\" class=\"dataframe\">\n",
       "  <thead>\n",
       "    <tr style=\"text-align: right;\">\n",
       "      <th></th>\n",
       "      <th>montant_aide_alimentaire</th>\n",
       "      <th>Zone</th>\n",
       "      <th>Année</th>\n",
       "      <th>population</th>\n",
       "    </tr>\n",
       "  </thead>\n",
       "  <tbody>\n",
       "    <tr>\n",
       "      <th>0</th>\n",
       "      <td>185452</td>\n",
       "      <td>Afghanistan</td>\n",
       "      <td>2017</td>\n",
       "      <td>36296.113</td>\n",
       "    </tr>\n",
       "    <tr>\n",
       "      <th>1</th>\n",
       "      <td>81114</td>\n",
       "      <td>Algérie</td>\n",
       "      <td>2017</td>\n",
       "      <td>41389.189</td>\n",
       "    </tr>\n",
       "    <tr>\n",
       "      <th>2</th>\n",
       "      <td>5014</td>\n",
       "      <td>Angola</td>\n",
       "      <td>2017</td>\n",
       "      <td>29816.766</td>\n",
       "    </tr>\n",
       "    <tr>\n",
       "      <th>3</th>\n",
       "      <td>348188</td>\n",
       "      <td>Bangladesh</td>\n",
       "      <td>2017</td>\n",
       "      <td>159685.424</td>\n",
       "    </tr>\n",
       "    <tr>\n",
       "      <th>4</th>\n",
       "      <td>2666</td>\n",
       "      <td>Bhoutan</td>\n",
       "      <td>2017</td>\n",
       "      <td>745.563</td>\n",
       "    </tr>\n",
       "    <tr>\n",
       "      <th>...</th>\n",
       "      <td>...</td>\n",
       "      <td>...</td>\n",
       "      <td>...</td>\n",
       "      <td>...</td>\n",
       "    </tr>\n",
       "    <tr>\n",
       "      <th>70</th>\n",
       "      <td>3026</td>\n",
       "      <td>Zambie</td>\n",
       "      <td>2017</td>\n",
       "      <td>16853.599</td>\n",
       "    </tr>\n",
       "    <tr>\n",
       "      <th>71</th>\n",
       "      <td>62570</td>\n",
       "      <td>Zimbabwe</td>\n",
       "      <td>2017</td>\n",
       "      <td>14236.595</td>\n",
       "    </tr>\n",
       "    <tr>\n",
       "      <th>72</th>\n",
       "      <td>1122</td>\n",
       "      <td>Égypte</td>\n",
       "      <td>2017</td>\n",
       "      <td>96442.591</td>\n",
       "    </tr>\n",
       "    <tr>\n",
       "      <th>73</th>\n",
       "      <td>1362</td>\n",
       "      <td>Équateur</td>\n",
       "      <td>2017</td>\n",
       "      <td>16785.361</td>\n",
       "    </tr>\n",
       "    <tr>\n",
       "      <th>74</th>\n",
       "      <td>1381294</td>\n",
       "      <td>Éthiopie</td>\n",
       "      <td>2017</td>\n",
       "      <td>106399.924</td>\n",
       "    </tr>\n",
       "  </tbody>\n",
       "</table>\n",
       "<p>75 rows × 4 columns</p>\n",
       "</div>"
      ],
      "text/plain": [
       "    montant_aide_alimentaire         Zone  Année  population\n",
       "0                     185452  Afghanistan   2017   36296.113\n",
       "1                      81114      Algérie   2017   41389.189\n",
       "2                       5014       Angola   2017   29816.766\n",
       "3                     348188   Bangladesh   2017  159685.424\n",
       "4                       2666      Bhoutan   2017     745.563\n",
       "..                       ...          ...    ...         ...\n",
       "70                      3026       Zambie   2017   16853.599\n",
       "71                     62570     Zimbabwe   2017   14236.595\n",
       "72                      1122       Égypte   2017   96442.591\n",
       "73                      1362     Équateur   2017   16785.361\n",
       "74                   1381294     Éthiopie   2017  106399.924\n",
       "\n",
       "[75 rows x 4 columns]"
      ]
     },
     "execution_count": 48,
     "metadata": {},
     "output_type": "execute_result"
    }
   ],
   "source": [
    "aide_alimentaire_par_personne.rename(columns = {'Valeur_x':'montant_aide_alimentaire'}, inplace = True)\n",
    "aide_alimentaire_par_personne.rename(columns = {'Valeur_y':'population'}, inplace = True)\n",
    "aide_alimentaire_par_personne"
   ]
  },
  {
   "cell_type": "markdown",
   "id": "dc982213",
   "metadata": {},
   "source": [
    "J'ajoute à ce nouveau dataframe, une colonne affichant le montant de l'aide accordée par habitant. Puis je trie ce montant par ordre décroissant. "
   ]
  },
  {
   "cell_type": "code",
   "execution_count": 49,
   "id": "47159fdf",
   "metadata": {},
   "outputs": [
    {
     "data": {
      "text/html": [
       "<div>\n",
       "<style scoped>\n",
       "    .dataframe tbody tr th:only-of-type {\n",
       "        vertical-align: middle;\n",
       "    }\n",
       "\n",
       "    .dataframe tbody tr th {\n",
       "        vertical-align: top;\n",
       "    }\n",
       "\n",
       "    .dataframe thead th {\n",
       "        text-align: right;\n",
       "    }\n",
       "</style>\n",
       "<table border=\"1\" class=\"dataframe\">\n",
       "  <thead>\n",
       "    <tr style=\"text-align: right;\">\n",
       "      <th></th>\n",
       "      <th>montant_aide_alimentaire</th>\n",
       "      <th>Zone</th>\n",
       "      <th>Année</th>\n",
       "      <th>population</th>\n",
       "      <th>montant_aide_par_habitant</th>\n",
       "    </tr>\n",
       "  </thead>\n",
       "  <tbody>\n",
       "    <tr>\n",
       "      <th>50</th>\n",
       "      <td>1858943</td>\n",
       "      <td>République arabe syrienne</td>\n",
       "      <td>2017</td>\n",
       "      <td>17095.678</td>\n",
       "      <td>0.108738</td>\n",
       "    </tr>\n",
       "    <tr>\n",
       "      <th>61</th>\n",
       "      <td>695248</td>\n",
       "      <td>Soudan du Sud</td>\n",
       "      <td>2017</td>\n",
       "      <td>10910.763</td>\n",
       "      <td>0.063721</td>\n",
       "    </tr>\n",
       "    <tr>\n",
       "      <th>17</th>\n",
       "      <td>41296</td>\n",
       "      <td>Djibouti</td>\n",
       "      <td>2017</td>\n",
       "      <td>944.099</td>\n",
       "      <td>0.043741</td>\n",
       "    </tr>\n",
       "    <tr>\n",
       "      <th>69</th>\n",
       "      <td>1206484</td>\n",
       "      <td>Yémen</td>\n",
       "      <td>2017</td>\n",
       "      <td>27834.819</td>\n",
       "      <td>0.043344</td>\n",
       "    </tr>\n",
       "    <tr>\n",
       "      <th>47</th>\n",
       "      <td>169684</td>\n",
       "      <td>Palestine</td>\n",
       "      <td>2017</td>\n",
       "      <td>4747.227</td>\n",
       "      <td>0.035744</td>\n",
       "    </tr>\n",
       "    <tr>\n",
       "      <th>59</th>\n",
       "      <td>292678</td>\n",
       "      <td>Somalie</td>\n",
       "      <td>2017</td>\n",
       "      <td>14589.179</td>\n",
       "      <td>0.020061</td>\n",
       "    </tr>\n",
       "    <tr>\n",
       "      <th>42</th>\n",
       "      <td>115332</td>\n",
       "      <td>Nicaragua</td>\n",
       "      <td>2017</td>\n",
       "      <td>6384.846</td>\n",
       "      <td>0.018063</td>\n",
       "    </tr>\n",
       "    <tr>\n",
       "      <th>65</th>\n",
       "      <td>267966</td>\n",
       "      <td>Tchad</td>\n",
       "      <td>2017</td>\n",
       "      <td>15016.753</td>\n",
       "      <td>0.017844</td>\n",
       "    </tr>\n",
       "    <tr>\n",
       "      <th>60</th>\n",
       "      <td>669784</td>\n",
       "      <td>Soudan</td>\n",
       "      <td>2017</td>\n",
       "      <td>40813.397</td>\n",
       "      <td>0.016411</td>\n",
       "    </tr>\n",
       "    <tr>\n",
       "      <th>51</th>\n",
       "      <td>66610</td>\n",
       "      <td>République centrafricaine</td>\n",
       "      <td>2017</td>\n",
       "      <td>4596.023</td>\n",
       "      <td>0.014493</td>\n",
       "    </tr>\n",
       "  </tbody>\n",
       "</table>\n",
       "</div>"
      ],
      "text/plain": [
       "    montant_aide_alimentaire                       Zone  Année  population  \\\n",
       "50                   1858943  République arabe syrienne   2017   17095.678   \n",
       "61                    695248              Soudan du Sud   2017   10910.763   \n",
       "17                     41296                   Djibouti   2017     944.099   \n",
       "69                   1206484                      Yémen   2017   27834.819   \n",
       "47                    169684                  Palestine   2017    4747.227   \n",
       "59                    292678                    Somalie   2017   14589.179   \n",
       "42                    115332                  Nicaragua   2017    6384.846   \n",
       "65                    267966                      Tchad   2017   15016.753   \n",
       "60                    669784                     Soudan   2017   40813.397   \n",
       "51                     66610  République centrafricaine   2017    4596.023   \n",
       "\n",
       "    montant_aide_par_habitant  \n",
       "50                   0.108738  \n",
       "61                   0.063721  \n",
       "17                   0.043741  \n",
       "69                   0.043344  \n",
       "47                   0.035744  \n",
       "59                   0.020061  \n",
       "42                   0.018063  \n",
       "65                   0.017844  \n",
       "60                   0.016411  \n",
       "51                   0.014493  "
      ]
     },
     "execution_count": 49,
     "metadata": {},
     "output_type": "execute_result"
    }
   ],
   "source": [
    "aide_alimentaire_par_personne['montant_aide_par_habitant'] = round(aide_alimentaire_par_personne['montant_aide_alimentaire']/(aide_alimentaire_par_personne['population']*1000),6)\n",
    "aide_alimentaire_par_personne.sort_values(by = ['montant_aide_par_habitant'],ascending = False).head(10)"
   ]
  },
  {
   "cell_type": "markdown",
   "id": "a6a9db92",
   "metadata": {},
   "source": [
    "Regardons combien de pays ont bénéficié d'aide alimentaire depuis 2013"
   ]
  },
  {
   "cell_type": "code",
   "execution_count": 50,
   "id": "5d68d8c2",
   "metadata": {},
   "outputs": [
    {
     "data": {
      "text/plain": [
       "(75, 5)"
      ]
     },
     "execution_count": 50,
     "metadata": {},
     "output_type": "execute_result"
    }
   ],
   "source": [
    "aide_alimentaire_par_personne.shape"
   ]
  },
  {
   "cell_type": "markdown",
   "id": "ad1beb29",
   "metadata": {},
   "source": [
    "75 pays ont bénéficié d'aide alimentaire depuis 2013"
   ]
  },
  {
   "cell_type": "code",
   "execution_count": 51,
   "id": "ddca53f3",
   "metadata": {},
   "outputs": [
    {
     "data": {
      "text/plain": [
       "'République arabe syrienne'"
      ]
     },
     "execution_count": 51,
     "metadata": {},
     "output_type": "execute_result"
    }
   ],
   "source": [
    "max_aide_alimentaire = pays_aide_alimentaire.idxmax()\n",
    "max_aide_alimentaire"
   ]
  },
  {
   "cell_type": "code",
   "execution_count": 52,
   "id": "e5c01978",
   "metadata": {},
   "outputs": [
    {
     "name": "stdout",
     "output_type": "stream",
     "text": [
      "Le pays ayant bénéficié le plus d'aide alimentaire depuis 2013 est la République arabe syrienne avec un total de 1858943 € accordés.\n"
     ]
    }
   ],
   "source": [
    "pays_max = pays_aide_alimentaire['République arabe syrienne']\n",
    "print(\"Le pays ayant bénéficié le plus d'aide alimentaire depuis 2013 est la\",max_aide_alimentaire,\"avec un total de\",pays_max,\"€ accordés.\")"
   ]
  },
  {
   "cell_type": "markdown",
   "id": "5f2cb9c2",
   "metadata": {},
   "source": [
    "**9. Disponibilité alimentaire par habitant**"
   ]
  },
  {
   "cell_type": "code",
   "execution_count": 53,
   "id": "ec8b8747",
   "metadata": {},
   "outputs": [
    {
     "data": {
      "text/html": [
       "<div>\n",
       "<style scoped>\n",
       "    .dataframe tbody tr th:only-of-type {\n",
       "        vertical-align: middle;\n",
       "    }\n",
       "\n",
       "    .dataframe tbody tr th {\n",
       "        vertical-align: top;\n",
       "    }\n",
       "\n",
       "    .dataframe thead th {\n",
       "        text-align: right;\n",
       "    }\n",
       "</style>\n",
       "<table border=\"1\" class=\"dataframe\">\n",
       "  <thead>\n",
       "    <tr style=\"text-align: right;\">\n",
       "      <th></th>\n",
       "      <th>Zone</th>\n",
       "      <th>Année</th>\n",
       "      <th>Valeur</th>\n",
       "      <th>Disponibilité alimentaire (Kcal/personne/jour)</th>\n",
       "    </tr>\n",
       "  </thead>\n",
       "  <tbody>\n",
       "    <tr>\n",
       "      <th>0</th>\n",
       "      <td>Afghanistan</td>\n",
       "      <td>2017</td>\n",
       "      <td>36296.113</td>\n",
       "      <td>2087.0</td>\n",
       "    </tr>\n",
       "    <tr>\n",
       "      <th>1</th>\n",
       "      <td>Afrique du Sud</td>\n",
       "      <td>2017</td>\n",
       "      <td>57009.756</td>\n",
       "      <td>3020.0</td>\n",
       "    </tr>\n",
       "    <tr>\n",
       "      <th>2</th>\n",
       "      <td>Albanie</td>\n",
       "      <td>2017</td>\n",
       "      <td>2884.169</td>\n",
       "      <td>3188.0</td>\n",
       "    </tr>\n",
       "    <tr>\n",
       "      <th>3</th>\n",
       "      <td>Algérie</td>\n",
       "      <td>2017</td>\n",
       "      <td>41389.189</td>\n",
       "      <td>3293.0</td>\n",
       "    </tr>\n",
       "    <tr>\n",
       "      <th>4</th>\n",
       "      <td>Allemagne</td>\n",
       "      <td>2017</td>\n",
       "      <td>82658.409</td>\n",
       "      <td>3503.0</td>\n",
       "    </tr>\n",
       "  </tbody>\n",
       "</table>\n",
       "</div>"
      ],
      "text/plain": [
       "             Zone  Année     Valeur  \\\n",
       "0     Afghanistan   2017  36296.113   \n",
       "1  Afrique du Sud   2017  57009.756   \n",
       "2         Albanie   2017   2884.169   \n",
       "3         Algérie   2017  41389.189   \n",
       "4       Allemagne   2017  82658.409   \n",
       "\n",
       "   Disponibilité alimentaire (Kcal/personne/jour)  \n",
       "0                                          2087.0  \n",
       "1                                          3020.0  \n",
       "2                                          3188.0  \n",
       "3                                          3293.0  \n",
       "4                                          3503.0  "
      ]
     },
     "execution_count": 53,
     "metadata": {},
     "output_type": "execute_result"
    }
   ],
   "source": [
    "df_intermediaire = pd.merge(population_2017, dispo_alimentaire_par_pays, on = 'Zone')\n",
    "df_intermediaire.head()"
   ]
  },
  {
   "cell_type": "code",
   "execution_count": 54,
   "id": "64fb4891",
   "metadata": {},
   "outputs": [
    {
     "data": {
      "text/html": [
       "<div>\n",
       "<style scoped>\n",
       "    .dataframe tbody tr th:only-of-type {\n",
       "        vertical-align: middle;\n",
       "    }\n",
       "\n",
       "    .dataframe tbody tr th {\n",
       "        vertical-align: top;\n",
       "    }\n",
       "\n",
       "    .dataframe thead th {\n",
       "        text-align: right;\n",
       "    }\n",
       "</style>\n",
       "<table border=\"1\" class=\"dataframe\">\n",
       "  <thead>\n",
       "    <tr style=\"text-align: right;\">\n",
       "      <th></th>\n",
       "      <th>Zone</th>\n",
       "      <th>Année</th>\n",
       "      <th>Population</th>\n",
       "      <th>Disponibilité alimentaire (Kcal/personne/jour)</th>\n",
       "    </tr>\n",
       "  </thead>\n",
       "  <tbody>\n",
       "    <tr>\n",
       "      <th>0</th>\n",
       "      <td>Afghanistan</td>\n",
       "      <td>2017</td>\n",
       "      <td>36296.113</td>\n",
       "      <td>2087.0</td>\n",
       "    </tr>\n",
       "    <tr>\n",
       "      <th>1</th>\n",
       "      <td>Afrique du Sud</td>\n",
       "      <td>2017</td>\n",
       "      <td>57009.756</td>\n",
       "      <td>3020.0</td>\n",
       "    </tr>\n",
       "    <tr>\n",
       "      <th>2</th>\n",
       "      <td>Albanie</td>\n",
       "      <td>2017</td>\n",
       "      <td>2884.169</td>\n",
       "      <td>3188.0</td>\n",
       "    </tr>\n",
       "    <tr>\n",
       "      <th>3</th>\n",
       "      <td>Algérie</td>\n",
       "      <td>2017</td>\n",
       "      <td>41389.189</td>\n",
       "      <td>3293.0</td>\n",
       "    </tr>\n",
       "    <tr>\n",
       "      <th>4</th>\n",
       "      <td>Allemagne</td>\n",
       "      <td>2017</td>\n",
       "      <td>82658.409</td>\n",
       "      <td>3503.0</td>\n",
       "    </tr>\n",
       "  </tbody>\n",
       "</table>\n",
       "</div>"
      ],
      "text/plain": [
       "             Zone  Année  Population  \\\n",
       "0     Afghanistan   2017   36296.113   \n",
       "1  Afrique du Sud   2017   57009.756   \n",
       "2         Albanie   2017    2884.169   \n",
       "3         Algérie   2017   41389.189   \n",
       "4       Allemagne   2017   82658.409   \n",
       "\n",
       "   Disponibilité alimentaire (Kcal/personne/jour)  \n",
       "0                                          2087.0  \n",
       "1                                          3020.0  \n",
       "2                                          3188.0  \n",
       "3                                          3293.0  \n",
       "4                                          3503.0  "
      ]
     },
     "execution_count": 54,
     "metadata": {},
     "output_type": "execute_result"
    }
   ],
   "source": [
    "df_intermediaire.rename(columns = {'Valeur': 'Population'}, inplace=True)\n",
    "df_intermediaire.head()"
   ]
  },
  {
   "cell_type": "code",
   "execution_count": 55,
   "id": "f2180ab2",
   "metadata": {},
   "outputs": [
    {
     "data": {
      "text/html": [
       "<div>\n",
       "<style scoped>\n",
       "    .dataframe tbody tr th:only-of-type {\n",
       "        vertical-align: middle;\n",
       "    }\n",
       "\n",
       "    .dataframe tbody tr th {\n",
       "        vertical-align: top;\n",
       "    }\n",
       "\n",
       "    .dataframe thead th {\n",
       "        text-align: right;\n",
       "    }\n",
       "</style>\n",
       "<table border=\"1\" class=\"dataframe\">\n",
       "  <thead>\n",
       "    <tr style=\"text-align: right;\">\n",
       "      <th></th>\n",
       "      <th>Zone</th>\n",
       "      <th>Année</th>\n",
       "      <th>Population</th>\n",
       "      <th>Disponibilité alimentaire (Kcal/personne/jour)</th>\n",
       "    </tr>\n",
       "  </thead>\n",
       "  <tbody>\n",
       "    <tr>\n",
       "      <th>131</th>\n",
       "      <td>République centrafricaine</td>\n",
       "      <td>2017</td>\n",
       "      <td>4596.023</td>\n",
       "      <td>1879.0</td>\n",
       "    </tr>\n",
       "    <tr>\n",
       "      <th>170</th>\n",
       "      <td>Zambie</td>\n",
       "      <td>2017</td>\n",
       "      <td>16853.599</td>\n",
       "      <td>1924.0</td>\n",
       "    </tr>\n",
       "    <tr>\n",
       "      <th>97</th>\n",
       "      <td>Madagascar</td>\n",
       "      <td>2017</td>\n",
       "      <td>25570.512</td>\n",
       "      <td>2056.0</td>\n",
       "    </tr>\n",
       "    <tr>\n",
       "      <th>0</th>\n",
       "      <td>Afghanistan</td>\n",
       "      <td>2017</td>\n",
       "      <td>36296.113</td>\n",
       "      <td>2087.0</td>\n",
       "    </tr>\n",
       "    <tr>\n",
       "      <th>70</th>\n",
       "      <td>Haïti</td>\n",
       "      <td>2017</td>\n",
       "      <td>10982.366</td>\n",
       "      <td>2089.0</td>\n",
       "    </tr>\n",
       "    <tr>\n",
       "      <th>136</th>\n",
       "      <td>République populaire démocratique de Corée</td>\n",
       "      <td>2017</td>\n",
       "      <td>25429.825</td>\n",
       "      <td>2093.0</td>\n",
       "    </tr>\n",
       "    <tr>\n",
       "      <th>156</th>\n",
       "      <td>Tchad</td>\n",
       "      <td>2017</td>\n",
       "      <td>15016.753</td>\n",
       "      <td>2109.0</td>\n",
       "    </tr>\n",
       "    <tr>\n",
       "      <th>171</th>\n",
       "      <td>Zimbabwe</td>\n",
       "      <td>2017</td>\n",
       "      <td>14236.595</td>\n",
       "      <td>2113.0</td>\n",
       "    </tr>\n",
       "    <tr>\n",
       "      <th>120</th>\n",
       "      <td>Ouganda</td>\n",
       "      <td>2017</td>\n",
       "      <td>41166.588</td>\n",
       "      <td>2126.0</td>\n",
       "    </tr>\n",
       "    <tr>\n",
       "      <th>55</th>\n",
       "      <td>Éthiopie</td>\n",
       "      <td>2017</td>\n",
       "      <td>106399.924</td>\n",
       "      <td>2129.0</td>\n",
       "    </tr>\n",
       "  </tbody>\n",
       "</table>\n",
       "</div>"
      ],
      "text/plain": [
       "                                           Zone  Année  Population  \\\n",
       "131                   République centrafricaine   2017    4596.023   \n",
       "170                                      Zambie   2017   16853.599   \n",
       "97                                   Madagascar   2017   25570.512   \n",
       "0                                   Afghanistan   2017   36296.113   \n",
       "70                                        Haïti   2017   10982.366   \n",
       "136  République populaire démocratique de Corée   2017   25429.825   \n",
       "156                                       Tchad   2017   15016.753   \n",
       "171                                    Zimbabwe   2017   14236.595   \n",
       "120                                     Ouganda   2017   41166.588   \n",
       "55                                     Éthiopie   2017  106399.924   \n",
       "\n",
       "     Disponibilité alimentaire (Kcal/personne/jour)  \n",
       "131                                          1879.0  \n",
       "170                                          1924.0  \n",
       "97                                           2056.0  \n",
       "0                                            2087.0  \n",
       "70                                           2089.0  \n",
       "136                                          2093.0  \n",
       "156                                          2109.0  \n",
       "171                                          2113.0  \n",
       "120                                          2126.0  \n",
       "55                                           2129.0  "
      ]
     },
     "execution_count": 55,
     "metadata": {},
     "output_type": "execute_result"
    }
   ],
   "source": [
    "df_intermediaire.sort_values(['Disponibilité alimentaire (Kcal/personne/jour)']).head(10)"
   ]
  },
  {
   "cell_type": "markdown",
   "id": "d62da530",
   "metadata": {},
   "source": [
    "La République Centrafricaine est le pays avec la plus faible disponibilité alimentaire par habitant, suivi par la Zambie."
   ]
  },
  {
   "cell_type": "code",
   "execution_count": 56,
   "id": "4766d3af",
   "metadata": {},
   "outputs": [
    {
     "data": {
      "text/html": [
       "<div>\n",
       "<style scoped>\n",
       "    .dataframe tbody tr th:only-of-type {\n",
       "        vertical-align: middle;\n",
       "    }\n",
       "\n",
       "    .dataframe tbody tr th {\n",
       "        vertical-align: top;\n",
       "    }\n",
       "\n",
       "    .dataframe thead th {\n",
       "        text-align: right;\n",
       "    }\n",
       "</style>\n",
       "<table border=\"1\" class=\"dataframe\">\n",
       "  <thead>\n",
       "    <tr style=\"text-align: right;\">\n",
       "      <th></th>\n",
       "      <th>Zone</th>\n",
       "      <th>Année</th>\n",
       "      <th>Population</th>\n",
       "      <th>Disponibilité alimentaire (Kcal/personne/jour)</th>\n",
       "    </tr>\n",
       "  </thead>\n",
       "  <tbody>\n",
       "    <tr>\n",
       "      <th>11</th>\n",
       "      <td>Autriche</td>\n",
       "      <td>2017</td>\n",
       "      <td>8819.901</td>\n",
       "      <td>3770.0</td>\n",
       "    </tr>\n",
       "    <tr>\n",
       "      <th>17</th>\n",
       "      <td>Belgique</td>\n",
       "      <td>2017</td>\n",
       "      <td>11419.748</td>\n",
       "      <td>3737.0</td>\n",
       "    </tr>\n",
       "    <tr>\n",
       "      <th>163</th>\n",
       "      <td>Turquie</td>\n",
       "      <td>2017</td>\n",
       "      <td>81116.450</td>\n",
       "      <td>3708.0</td>\n",
       "    </tr>\n",
       "    <tr>\n",
       "      <th>54</th>\n",
       "      <td>États-Unis d'Amérique</td>\n",
       "      <td>2017</td>\n",
       "      <td>325084.756</td>\n",
       "      <td>3682.0</td>\n",
       "    </tr>\n",
       "    <tr>\n",
       "      <th>80</th>\n",
       "      <td>Israël</td>\n",
       "      <td>2017</td>\n",
       "      <td>8243.848</td>\n",
       "      <td>3610.0</td>\n",
       "    </tr>\n",
       "    <tr>\n",
       "      <th>78</th>\n",
       "      <td>Irlande</td>\n",
       "      <td>2017</td>\n",
       "      <td>4753.279</td>\n",
       "      <td>3602.0</td>\n",
       "    </tr>\n",
       "    <tr>\n",
       "      <th>81</th>\n",
       "      <td>Italie</td>\n",
       "      <td>2017</td>\n",
       "      <td>60673.701</td>\n",
       "      <td>3578.0</td>\n",
       "    </tr>\n",
       "    <tr>\n",
       "      <th>95</th>\n",
       "      <td>Luxembourg</td>\n",
       "      <td>2017</td>\n",
       "      <td>591.910</td>\n",
       "      <td>3540.0</td>\n",
       "    </tr>\n",
       "    <tr>\n",
       "      <th>47</th>\n",
       "      <td>Égypte</td>\n",
       "      <td>2017</td>\n",
       "      <td>96442.591</td>\n",
       "      <td>3518.0</td>\n",
       "    </tr>\n",
       "    <tr>\n",
       "      <th>4</th>\n",
       "      <td>Allemagne</td>\n",
       "      <td>2017</td>\n",
       "      <td>82658.409</td>\n",
       "      <td>3503.0</td>\n",
       "    </tr>\n",
       "    <tr>\n",
       "      <th>89</th>\n",
       "      <td>Koweït</td>\n",
       "      <td>2017</td>\n",
       "      <td>4056.099</td>\n",
       "      <td>3499.0</td>\n",
       "    </tr>\n",
       "    <tr>\n",
       "      <th>31</th>\n",
       "      <td>Canada</td>\n",
       "      <td>2017</td>\n",
       "      <td>36732.095</td>\n",
       "      <td>3499.0</td>\n",
       "    </tr>\n",
       "    <tr>\n",
       "      <th>108</th>\n",
       "      <td>Monténégro</td>\n",
       "      <td>2017</td>\n",
       "      <td>627.563</td>\n",
       "      <td>3490.0</td>\n",
       "    </tr>\n",
       "    <tr>\n",
       "      <th>116</th>\n",
       "      <td>Norvège</td>\n",
       "      <td>2017</td>\n",
       "      <td>5296.326</td>\n",
       "      <td>3483.0</td>\n",
       "    </tr>\n",
       "    <tr>\n",
       "      <th>59</th>\n",
       "      <td>France</td>\n",
       "      <td>2017</td>\n",
       "      <td>64842.509</td>\n",
       "      <td>3482.0</td>\n",
       "    </tr>\n",
       "  </tbody>\n",
       "</table>\n",
       "</div>"
      ],
      "text/plain": [
       "                      Zone  Année  Population  \\\n",
       "11                Autriche   2017    8819.901   \n",
       "17                Belgique   2017   11419.748   \n",
       "163                Turquie   2017   81116.450   \n",
       "54   États-Unis d'Amérique   2017  325084.756   \n",
       "80                  Israël   2017    8243.848   \n",
       "78                 Irlande   2017    4753.279   \n",
       "81                  Italie   2017   60673.701   \n",
       "95              Luxembourg   2017     591.910   \n",
       "47                  Égypte   2017   96442.591   \n",
       "4                Allemagne   2017   82658.409   \n",
       "89                  Koweït   2017    4056.099   \n",
       "31                  Canada   2017   36732.095   \n",
       "108             Monténégro   2017     627.563   \n",
       "116                Norvège   2017    5296.326   \n",
       "59                  France   2017   64842.509   \n",
       "\n",
       "     Disponibilité alimentaire (Kcal/personne/jour)  \n",
       "11                                           3770.0  \n",
       "17                                           3737.0  \n",
       "163                                          3708.0  \n",
       "54                                           3682.0  \n",
       "80                                           3610.0  \n",
       "78                                           3602.0  \n",
       "81                                           3578.0  \n",
       "95                                           3540.0  \n",
       "47                                           3518.0  \n",
       "4                                            3503.0  \n",
       "89                                           3499.0  \n",
       "31                                           3499.0  \n",
       "108                                          3490.0  \n",
       "116                                          3483.0  \n",
       "59                                           3482.0  "
      ]
     },
     "execution_count": 56,
     "metadata": {},
     "output_type": "execute_result"
    }
   ],
   "source": [
    "df_intermediaire.sort_values(['Disponibilité alimentaire (Kcal/personne/jour)'],ascending=False).head(15)"
   ]
  },
  {
   "cell_type": "code",
   "execution_count": 57,
   "id": "75fa1a03",
   "metadata": {},
   "outputs": [
    {
     "data": {
      "text/plain": [
       "(42, 4)"
      ]
     },
     "execution_count": 57,
     "metadata": {},
     "output_type": "execute_result"
    }
   ],
   "source": [
    "Pays_en_etat_de_sous_nutrition = df_intermediaire.loc[df_intermediaire['Disponibilité alimentaire (Kcal/personne/jour)']<2500,:]\n",
    "Pays_en_etat_de_sous_nutrition.shape"
   ]
  },
  {
   "cell_type": "markdown",
   "id": "81d17e6d",
   "metadata": {},
   "source": [
    "42 pays dans le monde sont en état de sous-nutrition (disponibilité alimentaire inférieure à 2500 kcal/personne/jour)"
   ]
  },
  {
   "cell_type": "code",
   "execution_count": 58,
   "id": "daae2bcd",
   "metadata": {},
   "outputs": [
    {
     "data": {
      "text/plain": [
       "(64, 4)"
      ]
     },
     "execution_count": 58,
     "metadata": {},
     "output_type": "execute_result"
    }
   ],
   "source": [
    "Pays_en_etat_d_abondance = df_intermediaire.loc[df_intermediaire['Disponibilité alimentaire (Kcal/personne/jour)']>3000,:]\n",
    "Pays_en_etat_d_abondance.shape"
   ]
  },
  {
   "cell_type": "markdown",
   "id": "4bc71b87",
   "metadata": {},
   "source": [
    "64 pays dans le monde se trouvent en état d'abondance (disponibilité alimentaire supérieure à 3000kcal/personne/jour)"
   ]
  },
  {
   "cell_type": "markdown",
   "id": "15de640c",
   "metadata": {},
   "source": [
    "Détail de l'aide alimentaire accordée à la République Centrafricaine depuis 2013"
   ]
  },
  {
   "cell_type": "code",
   "execution_count": 59,
   "id": "7d2c7566",
   "metadata": {},
   "outputs": [
    {
     "name": "stdout",
     "output_type": "stream",
     "text": [
      "La République Centrafricaine a bénéficié depuis 2013 de 66610 € d'aide alimentaire.\n"
     ]
    }
   ],
   "source": [
    "aide_republique_centrafricaine = pays_aide_alimentaire['République centrafricaine']\n",
    "print(\"La République Centrafricaine a bénéficié depuis 2013 de\",aide_republique_centrafricaine,\"€ d'aide alimentaire.\")"
   ]
  },
  {
   "cell_type": "markdown",
   "id": "ac1f771f",
   "metadata": {},
   "source": [
    "Détail de l'aide alimentaire accordée à la Zambie depuis 2013"
   ]
  },
  {
   "cell_type": "code",
   "execution_count": 60,
   "id": "71a25ceb",
   "metadata": {},
   "outputs": [
    {
     "name": "stdout",
     "output_type": "stream",
     "text": [
      "La Zambie a bénéficié depuis 2013 de 3026 € d'aide alimentaire.\n"
     ]
    }
   ],
   "source": [
    "aide_zambie = pays_aide_alimentaire['Zambie']\n",
    "print(\"La Zambie a bénéficié depuis 2013 de\",aide_zambie,\"€ d'aide alimentaire.\")"
   ]
  },
  {
   "cell_type": "markdown",
   "id": "e0b58e2c",
   "metadata": {},
   "source": [
    "La Zambie qui est le deuxième pays du monde à avoir la disponibilité alimentaire la plus faible n'a bénéficié que de 3026€ d'aide alimentaire depuis 2013"
   ]
  }
 ],
 "metadata": {
  "kernelspec": {
   "display_name": "Python 3 (ipykernel)",
   "language": "python",
   "name": "python3"
  },
  "language_info": {
   "codemirror_mode": {
    "name": "ipython",
    "version": 3
   },
   "file_extension": ".py",
   "mimetype": "text/x-python",
   "name": "python",
   "nbconvert_exporter": "python",
   "pygments_lexer": "ipython3",
   "version": "3.9.12"
  }
 },
 "nbformat": 4,
 "nbformat_minor": 5
}
